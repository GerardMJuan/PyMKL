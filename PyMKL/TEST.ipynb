{
 "cells": [
  {
   "cell_type": "code",
   "execution_count": 1,
   "metadata": {},
   "outputs": [],
   "source": [
    "%load_ext autoreload\n",
    "%autoreload 2"
   ]
  },
  {
   "cell_type": "markdown",
   "metadata": {},
   "source": [
    "# C++ to numba code"
   ]
  },
  {
   "cell_type": "code",
   "execution_count": 2,
   "metadata": {},
   "outputs": [],
   "source": [
    "import numba,numpy as np,PyMKL,sak,sak.data,functools,tqdm"
   ]
  },
  {
   "cell_type": "code",
   "execution_count": 18,
   "metadata": {},
   "outputs": [
    {
     "name": "stdout",
     "output_type": "stream",
     "text": [
      "7.67 ns ± 0.0325 ns per loop (mean ± std. dev. of 7 runs, 100000000 loops each)\n",
      "184 ns ± 0.984 ns per loop (mean ± std. dev. of 7 runs, 10000000 loops each)\n",
      "184 ns ± 1.09 ns per loop (mean ± std. dev. of 7 runs, 10000000 loops each)\n"
     ]
    }
   ],
   "source": [
    "@numba.jit(numba.int32(numba.int32, numba.int32), nopython=True)\n",
    "def f(x, y):\n",
    "    # A somewhat trivial example\n",
    "    return x + y\n",
    "\n",
    "\n",
    "%timeit 2 + 5\n",
    "%timeit f(2,5)\n",
    "\n",
    "@numba.jit(numba.int32(numba.int32, numba.int32), nopython=False)\n",
    "def f(x, y):\n",
    "    # A somewhat trivial example\n",
    "    return x + y\n",
    "\n",
    "%timeit f(2,5)\n"
   ]
  },
  {
   "cell_type": "code",
   "execution_count": null,
   "metadata": {},
   "outputs": [],
   "source": []
  },
  {
   "cell_type": "code",
   "execution_count": 51,
   "metadata": {},
   "outputs": [],
   "source": [
    "K = PyMKL.io.read_mkl_kernels(\"/home/guille/opt/mkl-mpi-bsc/data/Kbin\")\n",
    "D = PyMKL.io.read_mkl_binary(\"/home/guille/opt/mkl-mpi-bsc/data/Dbin\",dtype=\"float64\")\n",
    "W = PyMKL.io.read_mkl_binary(\"/home/guille/opt/mkl-mpi-bsc/data/Wbin\",dtype=\"float32\")\n",
    "M,N,N = K.shape\n",
    "betas = np.ones((M, 1)) / M\n",
    "D = np.diag(D.squeeze())\n",
    "K = K.astype(\"float32\")\n",
    "D = D.astype(\"float32\")\n",
    "W = W.astype(\"float32\")\n",
    "betas = betas.astype(\"float32\")\n"
   ]
  },
  {
   "cell_type": "code",
   "execution_count": 52,
   "metadata": {},
   "outputs": [],
   "source": []
  },
  {
   "cell_type": "code",
   "execution_count": 3,
   "metadata": {},
   "outputs": [],
   "source": []
  },
  {
   "cell_type": "code",
   "execution_count": 53,
   "metadata": {},
   "outputs": [],
   "source": [
    "from joblib import Parallel\n",
    "from joblib import delayed\n",
    "from joblib.parallel import effective_n_jobs\n",
    "\n",
    "K = K.astype(\"float32\")\n",
    "D = D.astype(\"float64\")\n",
    "W = W.astype(\"float32\")\n",
    "\n",
    "self = PyMKL.MKL(K,W,D)\n",
    "# %%time\n",
    "\n",
    "numWorkers      = effective_n_jobs()\n",
    "values          = PyMKL.lib.create_ivalues(numWorkers,self.N)\n",
    "start_values    = values[0:-1]\n",
    "end_values      = values[1:]\n",
    "\n",
    "SW_betas        = np.zeros((self.N, self.N))\n",
    "SD_betas        = np.zeros((self.N, self.N))\n",
    "\n",
    "ParallelResult  = Parallel(n_jobs=numWorkers, prefer=\"threads\")(delayed(PyMKL.lib.computeSWB)(np.moveaxis(self.K,0,-1),self.betas,self.W,np.diag(self.D),start_values[i],end_values[i]) for i in range(len(start_values)))    \n",
    "\n",
    "for (SW_betastmp,SD_betastmp) in ParallelResult:\n",
    "    SW_betas    = SW_betas + SW_betastmp\n",
    "    SD_betas    = SD_betas + SD_betastmp\n",
    "\n",
    "SW_betas            = SW_betas + np.triu(SW_betas,1).T\n",
    "SD_betas            = SD_betas + np.triu(SD_betas,1).T\n"
   ]
  },
  {
   "cell_type": "code",
   "execution_count": null,
   "metadata": {},
   "outputs": [],
   "source": []
  },
  {
   "cell_type": "code",
   "execution_count": 7,
   "metadata": {},
   "outputs": [
    {
     "ename": "NameError",
     "evalue": "name 'kjasghkjgasd' is not defined",
     "output_type": "error",
     "traceback": [
      "\u001b[0;31m---------------------------------------------------------------------------\u001b[0m",
      "\u001b[0;31mNameError\u001b[0m                                 Traceback (most recent call last)",
      "\u001b[0;32m<ipython-input-7-dbd1ba53ced0>\u001b[0m in \u001b[0;36m<module>\u001b[0;34m\u001b[0m\n\u001b[1;32m     12\u001b[0m             (Ki - Kj).transpose())\n\u001b[1;32m     13\u001b[0m     \u001b[0mSD_betas\u001b[0m \u001b[0;34m=\u001b[0m \u001b[0mSD_betas\u001b[0m \u001b[0;34m+\u001b[0m \u001b[0mD\u001b[0m\u001b[0;34m[\u001b[0m\u001b[0mi\u001b[0m\u001b[0;34m,\u001b[0m \u001b[0mi\u001b[0m\u001b[0;34m]\u001b[0m \u001b[0;34m*\u001b[0m \u001b[0mfunctools\u001b[0m\u001b[0;34m.\u001b[0m\u001b[0mreduce\u001b[0m\u001b[0;34m(\u001b[0m\u001b[0mnp\u001b[0m\u001b[0;34m.\u001b[0m\u001b[0mdot\u001b[0m\u001b[0;34m,\u001b[0m\u001b[0;34m[\u001b[0m\u001b[0mKi\u001b[0m\u001b[0;34m,\u001b[0m \u001b[0mbetas\u001b[0m\u001b[0;34m,\u001b[0m \u001b[0mbetas\u001b[0m\u001b[0;34m.\u001b[0m\u001b[0mtranspose\u001b[0m\u001b[0;34m(\u001b[0m\u001b[0;34m)\u001b[0m\u001b[0;34m,\u001b[0m \u001b[0mKi\u001b[0m\u001b[0;34m.\u001b[0m\u001b[0mtranspose\u001b[0m\u001b[0;34m(\u001b[0m\u001b[0;34m)\u001b[0m\u001b[0;34m]\u001b[0m\u001b[0;34m)\u001b[0m\u001b[0;34m\u001b[0m\u001b[0;34m\u001b[0m\u001b[0m\n\u001b[0;32m---> 14\u001b[0;31m     \u001b[0mkjasghkjgasd\u001b[0m\u001b[0;34m\u001b[0m\u001b[0;34m\u001b[0m\u001b[0m\n\u001b[0m\u001b[1;32m     15\u001b[0m \u001b[0;34m\u001b[0m\u001b[0m\n\u001b[1;32m     16\u001b[0m \u001b[0mSW_betas\u001b[0m            \u001b[0;34m=\u001b[0m \u001b[0mSW_betas\u001b[0m \u001b[0;34m+\u001b[0m \u001b[0mnp\u001b[0m\u001b[0;34m.\u001b[0m\u001b[0mtriu\u001b[0m\u001b[0;34m(\u001b[0m\u001b[0mSW_betas\u001b[0m\u001b[0;34m,\u001b[0m\u001b[0;36m1\u001b[0m\u001b[0;34m)\u001b[0m\u001b[0;34m.\u001b[0m\u001b[0mT\u001b[0m\u001b[0;34m\u001b[0m\u001b[0;34m\u001b[0m\u001b[0m\n",
      "\u001b[0;31mNameError\u001b[0m: name 'kjasghkjgasd' is not defined"
     ]
    }
   ],
   "source": [
    "SW_betas = np.zeros((N, N))\n",
    "SD_betas = np.zeros((N, N))\n",
    "betas_T  = betas.T\n",
    "\n",
    "for i in range(N):\n",
    "    for j in range(N):\n",
    "        if j <= i:\n",
    "            continue\n",
    "        Ki = K[:, i, :].transpose()\n",
    "        Kj = K[:, j, :].transpose()\n",
    "        SW_betas = SW_betas + W[i, j] * (Ki - Kj).dot(betas).dot(betas_T).dot(\n",
    "            (Ki - Kj).transpose())\n",
    "    SD_betas = SD_betas + D[i, i] * np.dot(np.dot(Ki, betas),np.dot(betas_T,Ki.T))\n",
    "\n",
    "SW_betas            = SW_betas + np.triu(SW_betas,1).T\n",
    "SD_betas            = SD_betas + np.triu(SD_betas,1).T\n"
   ]
  },
  {
   "cell_type": "code",
   "execution_count": 11,
   "metadata": {},
   "outputs": [],
   "source": [
    "aaa = functools.reduce(np.dot,[Ki, betas, betas.transpose(), Ki.transpose()])"
   ]
  },
  {
   "cell_type": "code",
   "execution_count": 15,
   "metadata": {},
   "outputs": [
    {
     "data": {
      "text/plain": [
       "True"
      ]
     },
     "execution_count": 15,
     "metadata": {},
     "output_type": "execute_result"
    }
   ],
   "source": [
    "np.allclose(aaa,)"
   ]
  },
  {
   "cell_type": "code",
   "execution_count": null,
   "metadata": {},
   "outputs": [],
   "source": []
  },
  {
   "cell_type": "code",
   "execution_count": null,
   "metadata": {},
   "outputs": [],
   "source": []
  },
  {
   "cell_type": "code",
   "execution_count": 45,
   "metadata": {},
   "outputs": [
    {
     "ename": "NameError",
     "evalue": "name 'aghkjaghs' is not defined",
     "output_type": "error",
     "traceback": [
      "\u001b[0;31m---------------------------------------------------------------------------\u001b[0m",
      "\u001b[0;31mNameError\u001b[0m                                 Traceback (most recent call last)",
      "\u001b[0;32m<ipython-input-45-58eb131ac820>\u001b[0m in \u001b[0;36m<module>\u001b[0;34m\u001b[0m\n\u001b[1;32m     18\u001b[0m     \u001b[0mdiagonal_ki\u001b[0m \u001b[0;34m=\u001b[0m \u001b[0mD\u001b[0m\u001b[0;34m[\u001b[0m\u001b[0mi\u001b[0m\u001b[0;34m,\u001b[0m \u001b[0mi\u001b[0m\u001b[0;34m]\u001b[0m \u001b[0;34m*\u001b[0m \u001b[0mki_betas_squared\u001b[0m\u001b[0;34m\u001b[0m\u001b[0;34m\u001b[0m\u001b[0m\n\u001b[1;32m     19\u001b[0m     \u001b[0mSD_betas\u001b[0m \u001b[0;34m=\u001b[0m \u001b[0mSD_betas\u001b[0m \u001b[0;34m+\u001b[0m \u001b[0mdiagonal_ki\u001b[0m\u001b[0;34m\u001b[0m\u001b[0;34m\u001b[0m\u001b[0m\n\u001b[0;32m---> 20\u001b[0;31m     \u001b[0maghkjaghs\u001b[0m\u001b[0;34m\u001b[0m\u001b[0;34m\u001b[0m\u001b[0m\n\u001b[0m\u001b[1;32m     21\u001b[0m \u001b[0;34m\u001b[0m\u001b[0m\n\u001b[1;32m     22\u001b[0m \u001b[0mSW_betas\u001b[0m            \u001b[0;34m=\u001b[0m \u001b[0mSW_betas\u001b[0m \u001b[0;34m+\u001b[0m \u001b[0mnp\u001b[0m\u001b[0;34m.\u001b[0m\u001b[0mtriu\u001b[0m\u001b[0;34m(\u001b[0m\u001b[0mSW_betas\u001b[0m\u001b[0;34m,\u001b[0m\u001b[0;36m1\u001b[0m\u001b[0;34m)\u001b[0m\u001b[0;34m.\u001b[0m\u001b[0mT\u001b[0m\u001b[0;34m\u001b[0m\u001b[0;34m\u001b[0m\u001b[0m\n",
      "\u001b[0;31mNameError\u001b[0m: name 'aghkjaghs' is not defined"
     ]
    }
   ],
   "source": [
    "N = K.shape[-1]\n",
    "SW_betas = np.zeros((N, N))\n",
    "SD_betas = np.zeros((N, N))\n",
    "betas_T  = betas.T\n",
    "\n",
    "for i in range(N):\n",
    "    Ki = K[:, i, :].T\n",
    "    for j in range(N):\n",
    "        if j <= i:\n",
    "            continue\n",
    "        Kj = K[:, j, :].T\n",
    "        difference = (Ki - Kj)\n",
    "        difference_squared = difference @ (betas @ betas_T) @ difference.T\n",
    "        difference_weights = W[i, j] * difference_squared\n",
    "        SW_betas = SW_betas + difference_weights\n",
    "\n",
    "    ki_betas_squared = Ki @ (betas @ betas_T) @ Ki.T\n",
    "    diagonal_ki = D[i, i] * ki_betas_squared\n",
    "    SD_betas = SD_betas + diagonal_ki\n",
    "    aghkjaghs\n",
    "\n",
    "SW_betas            = SW_betas + np.triu(SW_betas,1).T\n",
    "SD_betas            = SD_betas + np.triu(SD_betas,1).T\n"
   ]
  },
  {
   "cell_type": "code",
   "execution_count": 44,
   "metadata": {},
   "outputs": [
    {
     "data": {
      "text/plain": [
       "True"
      ]
     },
     "execution_count": 44,
     "metadata": {},
     "output_type": "execute_result"
    }
   ],
   "source": [
    "np.allclose(ki_betas_squared, )"
   ]
  },
  {
   "cell_type": "code",
   "execution_count": 37,
   "metadata": {},
   "outputs": [
    {
     "data": {
      "text/plain": [
       "True"
      ]
     },
     "execution_count": 37,
     "metadata": {},
     "output_type": "execute_result"
    }
   ],
   "source": [
    "np.allclose(ki_betas_squared, ki_betas @ ki_betas_T)"
   ]
  },
  {
   "cell_type": "code",
   "execution_count": null,
   "metadata": {},
   "outputs": [],
   "source": []
  },
  {
   "cell_type": "code",
   "execution_count": null,
   "metadata": {},
   "outputs": [],
   "source": []
  },
  {
   "cell_type": "code",
   "execution_count": null,
   "metadata": {},
   "outputs": [],
   "source": []
  },
  {
   "cell_type": "code",
   "execution_count": 378,
   "metadata": {},
   "outputs": [],
   "source": [
    "new_N = 127\n",
    "K = PyMKL.io.read_mkl_kernels(\"/home/guille/opt/mkl-mpi-bsc/data/Kbin\")\n",
    "D = PyMKL.io.read_mkl_binary(\"/home/guille/opt/mkl-mpi-bsc/data/Dbin\",dtype=\"float64\")\n",
    "W = PyMKL.io.read_mkl_binary(\"/home/guille/opt/mkl-mpi-bsc/data/Wbin\",dtype=\"float32\")\n",
    "\n",
    "# Reduce size\n",
    "K = K[:,:new_N,:new_N]\n",
    "D = D[:new_N]\n",
    "W = W[:new_N,:new_N]\n",
    "\n",
    "# Get rest of variables\n",
    "M,N,N = K.shape\n",
    "betas = np.ones((M, 1)) / M\n",
    "D = np.diag(D.squeeze())\n",
    "\n",
    "\n",
    "# To contiguous\n",
    "K = np.ascontiguousarray(K.astype(\"float32\"))\n",
    "D = np.ascontiguousarray(D.astype(\"float32\"))\n",
    "W = np.ascontiguousarray(W.astype(\"float32\"))\n",
    "betas = np.ascontiguousarray(betas.astype(\"float32\"))"
   ]
  },
  {
   "cell_type": "code",
   "execution_count": 164,
   "metadata": {},
   "outputs": [],
   "source": [
    "import numba,numpy as np,PyMKL,sak,sak.data,functools,tqdm\n",
    "\n",
    "def compute_SWB(K, W, betas):\n",
    "    # Copy as contiguous\n",
    "    K       = np.ascontiguousarray(    K.astype(\"float32\"))\n",
    "    W       = np.ascontiguousarray(    W.astype(\"float32\"))\n",
    "    betas   = np.ascontiguousarray(betas.astype(\"float32\"))\n",
    "    betas_T = np.ascontiguousarray(betas.T)\n",
    "    \n",
    "    # Obtain output vectors\n",
    "    N = K.shape[-1]\n",
    "    SW_betas = np.zeros((N, N))\n",
    "    SD_betas = np.zeros((N, N))\n",
    "    \n",
    "    # Iterate over vectors\n",
    "    for i in range(N):\n",
    "        Ki_T = np.ascontiguousarray(K[:, i, :])\n",
    "        Ki   = np.ascontiguousarray(K[:, i, :].T)\n",
    "        for j in range(N):\n",
    "            if j <= i:\n",
    "                continue\n",
    "            Kj   = np.ascontiguousarray(K[:, j, :].T)\n",
    "            difference   = (Ki - Kj)\n",
    "            difference_T = np.ascontiguousarray(difference.T)\n",
    "            difference_squared = difference @ (betas @ betas_T) @ difference_T\n",
    "            difference_weights = W[i, j] * difference_squared\n",
    "            SW_betas = SW_betas + difference_weights\n",
    "\n",
    "        ki_betas_squared = Ki @ (betas @ betas_T) @ Ki_T\n",
    "        diagonal_ki = D[i, i] * ki_betas_squared\n",
    "        SD_betas = SD_betas + diagonal_ki\n",
    "\n",
    "    SW_betas            = SW_betas + np.triu(SW_betas,1).T\n",
    "    SD_betas            = SD_betas + np.triu(SD_betas,1).T\n",
    "    \n",
    "    return SW_betas, SD_betas\n",
    "\n",
    "import numba,numpy as np,PyMKL,sak,sak.data,functools,tqdm\n",
    "\n",
    "def compute_SWB_parallel(K, W, betas):\n",
    "    # Copy as contiguous\n",
    "    K       = np.ascontiguousarray(    K.astype(\"float32\"))\n",
    "    W       = np.ascontiguousarray(    W.astype(\"float32\"))\n",
    "    betas   = np.ascontiguousarray(betas.astype(\"float32\"))\n",
    "    betas_T = np.ascontiguousarray(betas.T)\n",
    "    \n",
    "    # Obtain output vectors\n",
    "    N = K.shape[-1]\n",
    "    SW_betas = np.zeros((N, N))\n",
    "    SD_betas = np.zeros((N, N))\n",
    "    \n",
    "    # Counters\n",
    "    product  = np.vstack(((np.arange(0,N**2,1)//N),(np.arange(0,N**2)%N))).T\n",
    "    \n",
    "    # Iterate over vectors\n",
    "    for i,j in product:\n",
    "        if j <= i:\n",
    "            continue\n",
    "        Ki_T = np.ascontiguousarray(K[:, i, :])\n",
    "        Ki   = np.ascontiguousarray(K[:, i, :].T)\n",
    "        Kj   = np.ascontiguousarray(K[:, j, :].T)\n",
    "        difference   = (Ki - Kj)\n",
    "        difference_T = np.ascontiguousarray(difference.T)\n",
    "        difference_squared = difference @ (betas @ betas_T) @ difference_T\n",
    "        difference_weights = W[i, j] * difference_squared\n",
    "        SW_betas = SW_betas + difference_weights\n",
    "\n",
    "        ki_betas_squared = Ki @ (betas @ betas_T) @ Ki_T\n",
    "        diagonal_ki = D[i, i] * ki_betas_squared\n",
    "        SD_betas = SD_betas + diagonal_ki\n",
    "\n",
    "    SW_betas            = SW_betas + np.triu(SW_betas,1).T\n",
    "    SD_betas            = SD_betas + np.triu(SD_betas,1).T\n",
    "    \n",
    "    return SW_betas, SD_betas"
   ]
  },
  {
   "cell_type": "code",
   "execution_count": 172,
   "metadata": {},
   "outputs": [
    {
     "name": "stdout",
     "output_type": "stream",
     "text": [
      "CPU times: user 3.57 s, sys: 18.2 ms, total: 3.59 s\n",
      "Wall time: 2.78 s\n"
     ]
    }
   ],
   "source": [
    "%%time\n",
    "SW_betas_numba, SD_betas_numba = numba.jit(\n",
    "    (numba.float32[:,:,:],numba.float32[:,:],numba.float32[:,:]), \n",
    "    nopython=True, parallel=True)(compute_SWB)(K,W,betas)"
   ]
  },
  {
   "cell_type": "code",
   "execution_count": 143,
   "metadata": {},
   "outputs": [],
   "source": [
    "from joblib import Parallel\n",
    "from joblib import delayed\n",
    "from joblib.parallel import effective_n_jobs\n",
    "\n",
    "K = K.astype(\"float32\")\n",
    "D = D.astype(\"float64\")\n",
    "W = W.astype(\"float32\")\n",
    "\n",
    "self = PyMKL.MKL(K,W,D)"
   ]
  },
  {
   "cell_type": "code",
   "execution_count": 152,
   "metadata": {},
   "outputs": [
    {
     "name": "stdout",
     "output_type": "stream",
     "text": [
      "CPU times: user 29 ms, sys: 3.81 ms, total: 32.8 ms\n",
      "Wall time: 24.7 ms\n"
     ]
    }
   ],
   "source": [
    "%%time\n",
    "\n",
    "from joblib import Parallel\n",
    "from joblib import delayed\n",
    "from joblib.parallel import effective_n_jobs\n",
    "\n",
    "K = K.astype(\"float32\")\n",
    "D = D.astype(\"float64\")\n",
    "W = W.astype(\"float32\")\n",
    "\n",
    "self = PyMKL.MKL(K,W,D)\n",
    "\n",
    "numWorkers      = effective_n_jobs()\n",
    "values          = PyMKL.lib.create_ivalues(numWorkers,self.N)\n",
    "start_values    = values[0:-1]\n",
    "end_values      = values[1:]\n",
    "\n",
    "SW_betas        = np.zeros((self.N, self.N))\n",
    "SD_betas        = np.zeros((self.N, self.N))\n",
    "\n",
    "ParallelResult  = Parallel(n_jobs=numWorkers, prefer=\"threads\")(delayed(PyMKL.lib.computeSWB)(np.moveaxis(self.K,0,-1),self.betas,self.W,np.diag(self.D),start_values[i],end_values[i]) for i in range(len(start_values)))    \n",
    "\n",
    "for (SW_betastmp,SD_betastmp) in ParallelResult:\n",
    "    SW_betas    = SW_betas + SW_betastmp\n",
    "    SD_betas    = SD_betas + SD_betastmp\n",
    "\n",
    "SW_betas        = SW_betas + np.triu(SW_betas,1).T\n",
    "SD_betas        = SD_betas + np.triu(SD_betas,1).T\n"
   ]
  },
  {
   "cell_type": "code",
   "execution_count": null,
   "metadata": {},
   "outputs": [],
   "source": []
  },
  {
   "cell_type": "code",
   "execution_count": 374,
   "metadata": {},
   "outputs": [],
   "source": [
    "def computeSWB_c(K: np.ndarray, W: np.ndarray, D: np.ndarray, betas: np.ndarray, i1: int, i2: int):\n",
    "    M,N,N = K.shape\n",
    "    \n",
    "    tmp      = np.zeros((N,))\n",
    "    SW_betas = np.zeros((N, N))\n",
    "    SD_betas = np.zeros((N, N))\n",
    "    \n",
    "    for i in range(i1,i2):\n",
    "        for j in range(i+1,N):\n",
    "            Wij = W[i,j]\n",
    "            \n",
    "            if Wij != 0:\n",
    "                for r in range(N):\n",
    "                    tmpV = np.float32(0.0)\n",
    "                    \n",
    "                    for c in range(M):\n",
    "                        tmpV += (K[c,i,r] - K[c,j,r]) * betas[c,0]\n",
    "                        \n",
    "                    tmp[r] = tmpV\n",
    "                \n",
    "                for r in range(N):\n",
    "                    for l in range(r,N):\n",
    "                        SW_betas[r,l] += 2*Wij * (tmp[r] * tmp[l])\n",
    "        \n",
    "        for r in range(N):\n",
    "            tmpV = np.float32(0.0)\n",
    "            for c in range(0,M):\n",
    "                tmpV += K[c,i,r] * betas[c,0]\n",
    "            \n",
    "            tmp[r] = tmpV\n",
    "            \n",
    "        for r in range(N):\n",
    "            for l in range(r,N):\n",
    "                SD_betas[r,l] += D[i,i] * (tmp[r] * tmp[l])\n",
    "                \n",
    "    return SW_betas, SD_betas\n",
    "\n",
    "def computeSWB_c_2(K: np.ndarray, W: np.ndarray, D: np.ndarray, betas: np.ndarray):\n",
    "    M,N,N = K.shape\n",
    "    \n",
    "    tmp      = np.zeros((N,))\n",
    "    SW_betas = np.zeros((N, N))\n",
    "    SD_betas = np.zeros((N, N))\n",
    "    \n",
    "    for i in range(N):\n",
    "        for j in range(i+1,N):\n",
    "            Wij = W[i,j]\n",
    "            \n",
    "            if Wij != 0:\n",
    "                for r in range(N):\n",
    "                    tmpV = np.float32(0.0)\n",
    "                    \n",
    "                    for c in range(M):\n",
    "                        tmpV += (K[c,i,r] - K[c,j,r]) * betas[c,0]\n",
    "                        \n",
    "                    tmp[r] = tmpV\n",
    "                \n",
    "                for r in range(N):\n",
    "                    for l in range(r,N):\n",
    "                        SW_betas[r,l] += 2*Wij * (tmp[r] * tmp[l])\n",
    "        \n",
    "        for r in range(N):\n",
    "            tmpV = np.float32(0.0)\n",
    "            for c in range(0,M):\n",
    "                tmpV += K[c,i,r] * betas[c,0]\n",
    "            \n",
    "            tmp[r] = tmpV\n",
    "            \n",
    "        for r in range(N):\n",
    "            for l in range(r,N):\n",
    "                SD_betas[r,l] += D[i,i] * (tmp[r] * tmp[l])\n",
    "                \n",
    "    return SW_betas, SD_betas\n"
   ]
  },
  {
   "cell_type": "code",
   "execution_count": null,
   "metadata": {},
   "outputs": [],
   "source": []
  },
  {
   "cell_type": "code",
   "execution_count": null,
   "metadata": {},
   "outputs": [],
   "source": [
    "def product_range(N, iterators: int = 2):\n",
    "    index = 0\n",
    "    while index < N**iterators:\n",
    "        yield tuple([index//(N**(iterators-j-1)) if j != iterators-1 else index%N for j in range(iterators)])\n",
    "        index += 1\n"
   ]
  },
  {
   "cell_type": "code",
   "execution_count": null,
   "metadata": {},
   "outputs": [],
   "source": []
  },
  {
   "cell_type": "code",
   "execution_count": 219,
   "metadata": {},
   "outputs": [
    {
     "name": "stdout",
     "output_type": "stream",
     "text": [
      "CPU times: user 15.3 s, sys: 3.71 ms, total: 15.3 s\n",
      "Wall time: 15.3 s\n"
     ]
    }
   ],
   "source": [
    "%%time\n",
    "SW_betas_c,SD_betas_c = computeSWB_c(K,W,D,betas,0,N)"
   ]
  },
  {
   "cell_type": "code",
   "execution_count": 208,
   "metadata": {},
   "outputs": [
    {
     "name": "stdout",
     "output_type": "stream",
     "text": [
      "CPU times: user 15.2 s, sys: 53.1 ms, total: 15.3 s\n",
      "Wall time: 15.3 s\n"
     ]
    }
   ],
   "source": [
    "%%time\n",
    "SW_betas_c,SD_betas_c = computeSWB_parallel(K,W,D,betas)"
   ]
  },
  {
   "cell_type": "code",
   "execution_count": 317,
   "metadata": {},
   "outputs": [
    {
     "name": "stdout",
     "output_type": "stream",
     "text": [
      "CPU times: user 822 ms, sys: 3.91 ms, total: 826 ms\n",
      "Wall time: 790 ms\n"
     ]
    }
   ],
   "source": [
    "%%time\n",
    "SW_betas_c_parallel, SD_betas_parallel = numba.jit(\n",
    "    (numba.float32[:,:,:],numba.float32[:,:],numba.float32[:,:],numba.float32[:,:],numba.int64,numba.int64), \n",
    "    nopython=True, parallel=True)(computeSWB_c)(K,W,D,betas,0,N)"
   ]
  },
  {
   "cell_type": "code",
   "execution_count": 318,
   "metadata": {},
   "outputs": [
    {
     "name": "stdout",
     "output_type": "stream",
     "text": [
      "CPU times: user 828 ms, sys: 367 µs, total: 828 ms\n",
      "Wall time: 793 ms\n"
     ]
    }
   ],
   "source": [
    "%%time\n",
    "SW_betas_c_parallel_2, SD_betas_parallel_2 = numba.jit(\n",
    "    (numba.float32[:,:,:],numba.float32[:,:],numba.float32[:,:],numba.float32[:,:]), \n",
    "    nopython=True, parallel=True)(computeSWB_c_2)(K,W,D,betas)"
   ]
  },
  {
   "cell_type": "code",
   "execution_count": 616,
   "metadata": {},
   "outputs": [],
   "source": [
    "from numba import *"
   ]
  },
  {
   "cell_type": "code",
   "execution_count": 620,
   "metadata": {},
   "outputs": [],
   "source": [
    "K_tot_all = np.moveaxis(K,0,-1)"
   ]
  },
  {
   "cell_type": "code",
   "execution_count": 631,
   "metadata": {},
   "outputs": [],
   "source": [
    "# %%time\n",
    "\n",
    "@jit((float32[:,:,:],float32[:,:],float32[:,:],float32[:,:]), nopython=True, parallel=True)\n",
    "def computeSWB_c_3(K_tot_all: np.ndarray, W: np.ndarray, D: np.ndarray, betas: np.ndarray):\n",
    "    N,N,M = K_tot_all.shape\n",
    "    \n",
    "    tmp      = np.zeros((N,))\n",
    "    SW_betas = np.zeros((N, N))\n",
    "    SD_betas = np.zeros((N, N))\n",
    "    \n",
    "    for i in range(N):\n",
    "        for j in range(i+1,N):\n",
    "            Wij = W[i,j]\n",
    "            \n",
    "            if Wij != 0:\n",
    "                for r in range(N):\n",
    "                    tmpV = np.float32(0.0)\n",
    "                    for c in range(M):\n",
    "                        tmpV += (K_tot_all[i,r,c] - K_tot_all[j,r,c]) * betas[c,0]\n",
    "                    tmp[r] = tmpV\n",
    "                \n",
    "                for r in range(N):\n",
    "                    for l in range(r,N):\n",
    "                        tmpV = 2*Wij * (tmp[r] * tmp[l])\n",
    "                        SW_betas[r,l] += tmpV\n",
    "                        if r != l: SW_betas[l,r] += tmpV\n",
    "        \n",
    "        for r in range(N):\n",
    "            tmpV = np.float32(0.0)\n",
    "            for c in range(0,M):\n",
    "                tmpV += K_tot_all[i,r,c] * betas[c,0]\n",
    "            tmp[r] = tmpV\n",
    "            \n",
    "        for r in range(N):\n",
    "            for l in range(r,N):\n",
    "                tmpV = D[i,i] * (tmp[r] * tmp[l])\n",
    "                SD_betas[r,l] += tmpV\n",
    "                if r != l: SD_betas[l,r] += tmpV\n",
    "\n",
    "    return (SW_betas, SD_betas)\n",
    "\n",
    "out = computeSWB_c_3(K_tot_all,W,D,betas)"
   ]
  },
  {
   "cell_type": "code",
   "execution_count": null,
   "metadata": {},
   "outputs": [],
   "source": []
  },
  {
   "cell_type": "code",
   "execution_count": 732,
   "metadata": {},
   "outputs": [],
   "source": [
    "@jit((float64[:,:,:],float64[:,:],float64[:,:],float64[:],int64,int64), nopython=True, parallel=True)\n",
    "def computeSWA(K_tot_all: np.ndarray, A: np.ndarray, W: np.ndarray, Diag: np.ndarray, i1, i2):\n",
    "    N,N,M = K_tot_all.shape\n",
    "    NA    = A.shape[1]\n",
    "    \n",
    "    tmp      = np.zeros((M,NA))\n",
    "    KiA      = np.zeros((N,M,NA))\n",
    "    SWA = np.zeros((M, M))\n",
    "    SDA = np.zeros((M, M))\n",
    "\n",
    "    for i in range(N):\n",
    "        for c in range(M):\n",
    "            for r in range(NA):\n",
    "                tmpV = np.float64(0.0)\n",
    "                for l in range(N):\n",
    "                    tmpV += K_tot_all[i,l,c] * A[l,r]\n",
    "                KiA[i,c,r] = tmpV\n",
    "\n",
    "    for i in range(N):\n",
    "        for j in range(i+1,N):\n",
    "            Wij = W[i,j]\n",
    "            if Wij != 0:\n",
    "                for c1 in range(M):\n",
    "                    for c2 in range(c1,M):\n",
    "                        tmpV = np.float64(0.0)\n",
    "                        for k in range(NA):\n",
    "                            tmp1  = KiA[i,c1,k] - KiA[j,c1,k]\n",
    "                            tmp2  = KiA[i,c2,k] - KiA[j,c2,k]\n",
    "                            tmpV += tmp1 * tmp2\n",
    "                        SWA[c1,c2] += 2.0 * Wij * tmpV\n",
    "        \n",
    "        for c in range(M):\n",
    "            for r in range(NA):\n",
    "                tmpV = np.float64(0.0)\n",
    "                for l in range(N):\n",
    "                    tmpV += K_tot_all[i,l,c] * A[l,r]\n",
    "                tmp[c,r] = tmpV\n",
    "        \n",
    "        for c1 in range(M):\n",
    "            for c2 in range(c1,M):\n",
    "                tmpV = np.float64(0.0)\n",
    "                for k in range(NA):\n",
    "                    tmpV += tmp[c1,k] * tmp[c2,k]\n",
    "                SDA[c1,c2] += Diag[i] * tmpV\n",
    "                \n",
    "    return np.ascontiguousarray(SWA), np.ascontiguousarray(SDA)\n",
    "\n",
    "\n",
    "@jit((float64[:,:,:],float64[:,:],float64[:,:],float64[:],int64,int64), nopython=True, parallel=True)\n",
    "def computeSWB(K_tot_all: np.ndarray, betas: np.ndarray, W: np.ndarray, Diag: np.ndarray, i1, i2):\n",
    "    N,N,M = K_tot_all.shape\n",
    "    \n",
    "    tmp      = np.zeros((N,))\n",
    "    SW_betas = np.zeros((N, N))\n",
    "    SD_betas = np.zeros((N, N))\n",
    "    \n",
    "    for i in range(N):\n",
    "        for j in range(i+1,N):\n",
    "            Wij = W[i,j]\n",
    "            \n",
    "            if Wij != 0:\n",
    "                for r in range(N):\n",
    "                    tmpV = np.float64(0.0)\n",
    "                    for c in range(M):\n",
    "                        tmpV += (K_tot_all[i,r,c] - K_tot_all[j,r,c]) * betas[c,0]\n",
    "                    tmp[r] = tmpV\n",
    "                \n",
    "                for r in range(N):\n",
    "                    for l in range(r,N):\n",
    "                        SW_betas[r,l] += 2*Wij * (tmp[r] * tmp[l])\n",
    "        \n",
    "        for r in range(N):\n",
    "            tmpV = np.float64(0.0)\n",
    "            for c in range(0,M):\n",
    "                tmpV += K_tot_all[i,r,c] * betas[c,0]\n",
    "            tmp[r] = tmpV\n",
    "            \n",
    "        for r in range(N):\n",
    "            for l in range(r,N):\n",
    "                SD_betas[r,l] += Diag[i] * (tmp[r] * tmp[l])\n",
    "                \n",
    "    return np.ascontiguousarray(SW_betas), np.ascontiguousarray(SD_betas)\n",
    "\n",
    "\n",
    "@jit((float64[:,:,:],float64[:,:],float64[:,:],float64[:,:],float64[:],int64,int64), nopython=True, parallel=True)\n",
    "def computeENERGY(K_tot_all: np.ndarray, betas: np.ndarray, A: np.ndarray, W: np.ndarray, Diag: np.ndarray, i1, i2):\n",
    "    N,N,M = K_tot_all.shape\n",
    "    NA    = A.shape[1]\n",
    "    \n",
    "    tmp    = np.zeros((NA))\n",
    "    tmpM   = np.zeros((N,N))\n",
    "    gap    = np.float64(0.0)\n",
    "    constr = np.float64(0.0)\n",
    "\n",
    "    for i in range(N):\n",
    "        for r in range(N):\n",
    "            tmpV = np.float64(0.0)\n",
    "            for c in range(M):\n",
    "                tmpV += K_tot_all[i,r,c] * betas[c,0]\n",
    "            tmpM[i,r] = tmpV\n",
    "\n",
    "    for i in range(N):\n",
    "        for j in range(i+1,N):\n",
    "            Wij = W[i,j]\n",
    "            if Wij != 0:\n",
    "                for r in range(NA):\n",
    "                    tmpV = np.float64(0.0)\n",
    "                    for l in range(N):\n",
    "                        tmpV += A[l,r] * (tmpM[i,l] - tmpM[j,l])\n",
    "                    tmp[r] = tmpV\n",
    "\n",
    "                gapij = np.float64(0.0)\n",
    "                for r in range(NA):\n",
    "                    gapij += tmp[r]**2\n",
    "                gap += 2.0 * gapij * Wij\n",
    "\n",
    "        for r in range(NA):\n",
    "            tmpV = np.float64(0.0)\n",
    "            for l in range(N):\n",
    "                tmpV += A[l,r] * tmpM[i,l]\n",
    "            tmp[r] = tmpV\n",
    "\n",
    "        constrii = np.float64(0.0)\n",
    "        for r in range(NA):\n",
    "            constrii += tmp[r]**2\n",
    "        constr += Diag[i] * constrii\n",
    "                \n",
    "    return gap,constr\n"
   ]
  },
  {
   "cell_type": "code",
   "execution_count": null,
   "metadata": {},
   "outputs": [],
   "source": []
  },
  {
   "cell_type": "code",
   "execution_count": null,
   "metadata": {},
   "outputs": [],
   "source": []
  },
  {
   "cell_type": "code",
   "execution_count": 718,
   "metadata": {},
   "outputs": [
    {
     "name": "stdout",
     "output_type": "stream",
     "text": [
      "CPU times: user 60.4 ms, sys: 47.7 ms, total: 108 ms\n",
      "Wall time: 35.8 ms\n"
     ]
    }
   ],
   "source": [
    "%%time\n",
    "\n",
    "from joblib import Parallel\n",
    "from joblib import delayed\n",
    "from joblib.parallel import effective_n_jobs\n",
    "\n",
    "K = K.astype(\"float32\")\n",
    "D = D.astype(\"float64\")\n",
    "W = W.astype(\"float32\")\n",
    "\n",
    "self = PyMKL.MKL(K,W,D)\n",
    "\n",
    "# compute sides of GEP\n",
    "\n",
    "try:\n",
    "    numWorkers      = effective_n_jobs()\n",
    "    values          = PyMKL.lib.create_ivalues(numWorkers,self.N)\n",
    "    start_values    = values[0:-1]\n",
    "    end_values      = values[1:]\n",
    "\n",
    "    SW_betas_cpp        = np.zeros((self.N, self.N))\n",
    "    SD_betas_cpp        = np.zeros((self.N, self.N))\n",
    "\n",
    "    ParallelResult  = Parallel(n_jobs=numWorkers, prefer=\"threads\")(delayed(PyMKL.lib.computeSWB)(np.moveaxis(self.K,0,-1),self.betas,self.W,np.diag(self.D),start_values[i],end_values[i]) for i in range(len(start_values)))    \n",
    "\n",
    "    for (SW_betastmp,SD_betastmp) in ParallelResult:\n",
    "        SW_betas_cpp    = SW_betas_cpp + SW_betastmp\n",
    "        SD_betas_cpp    = SD_betas_cpp + SD_betastmp\n",
    "except NameError:\n",
    "    (SW_betas_cpp,SD_betas_cpp) = PyMKL.lib.computeSWB(np.moveaxis(self.K,0,-1),self.betas,self.W,np.diag(self.D).copy(),0,self.N)\n",
    "except KeyboardInterrupt:\n",
    "    raise\n",
    "\n",
    "SW_betas_cpp            = SW_betas_cpp + np.triu(SW_betas_cpp,1).T\n",
    "SD_betas_cpp            = SD_betas_cpp + np.triu(SD_betas_cpp,1).T\n",
    "\n",
    "## TRANSFORM THE MATRICES TO POSITIVE DEFINITE ##\n",
    "SW_betas_cpp            = np.real(PyMKL.lib.to_PDM(SW_betas_cpp, self.eps)) + self.eps*np.eye(self.N)\n",
    "SD_betas_cpp            = np.real(PyMKL.lib.to_PDM(SD_betas_cpp, self.eps)) + self.eps*np.eye(self.N)\n",
    "\n",
    "# Avoid numerical errors\n",
    "SW_betas_cpp            = 0.5*(SW_betas_cpp + SW_betas_cpp.T)\n",
    "SD_betas_cpp            = 0.5*(SD_betas_cpp + SD_betas_cpp.T)\n",
    "\n",
    "if np.allclose(np.matrix(SW_betas_cpp),np.matrix(SW_betas_cpp).H):\n",
    "    # If is Hermitian, perform scipy's eigh (WAY faster)\n",
    "    eigvals, A      = sp.linalg.eigh(SW_betas_cpp, b=SD_betas_cpp)\n",
    "else:\n",
    "    # Else, compute scipy's eig\n",
    "    eigvals, A      = sp.linalg.eig(SW_betas_cpp,  b=SD_betas_cpp)\n",
    "\n",
    "A                   = np.real(A)\n",
    "eigvals             = np.real(eigvals)\n",
    "A                   = A[:,(eigvals > self.eps).ravel()]\n",
    "eigvals             = eigvals[(eigvals > self.eps).ravel()]\n",
    "\n",
    "# Normalization to comply with original MATLAB code\n",
    "A                   = np.divide(A,np.linalg.norm(A,axis=0))\n",
    "\n",
    "self.A              = A\n",
    "self.SW_betas_cpp       = SW_betas_cpp\n",
    "self.SD_betas_cpp       = SD_betas_cpp\n"
   ]
  },
  {
   "cell_type": "code",
   "execution_count": 719,
   "metadata": {},
   "outputs": [
    {
     "name": "stdout",
     "output_type": "stream",
     "text": [
      "CPU times: user 178 ms, sys: 100 ms, total: 278 ms\n",
      "Wall time: 84.6 ms\n"
     ]
    }
   ],
   "source": [
    "%%time\n",
    "\n",
    "from joblib import Parallel\n",
    "from joblib import delayed\n",
    "from joblib.parallel import effective_n_jobs\n",
    "\n",
    "K = K.astype(\"float32\")\n",
    "D = D.astype(\"float64\")\n",
    "W = W.astype(\"float32\")\n",
    "\n",
    "self = PyMKL.MKL(K,W,D)\n",
    "\n",
    "# compute sides of GEP\n",
    "\n",
    "numWorkers      = effective_n_jobs()\n",
    "values          = PyMKL.lib.create_ivalues(numWorkers,self.N)\n",
    "start_values    = values[0:-1]\n",
    "end_values      = values[1:]\n",
    "\n",
    "SW_betas_nb        = np.zeros((self.N, self.N))\n",
    "SD_betas_nb        = np.zeros((self.N, self.N))\n",
    "\n",
    "SW_betas_nb,SD_betas_nb = computeSWB(np.moveaxis(self.K,0,-1),self.betas,self.W,np.diag(self.D).copy(),0,N)\n",
    "\n",
    "SW_betas_nb            = SW_betas_nb + np.triu(SW_betas_nb,1).T\n",
    "SD_betas_nb            = SD_betas_nb + np.triu(SD_betas_nb,1).T\n",
    "\n",
    "## TRANSFORM THE MATRICES TO POSITIVE DEFINITE ##\n",
    "SW_betas_nb            = np.real(PyMKL.lib.to_PDM(SW_betas_nb, self.eps)) + self.eps*np.eye(self.N)\n",
    "SD_betas_nb            = np.real(PyMKL.lib.to_PDM(SD_betas_nb, self.eps)) + self.eps*np.eye(self.N)\n",
    "\n",
    "# Avoid numerical errors\n",
    "SW_betas_nb            = 0.5*(SW_betas_nb + SW_betas_nb.T)\n",
    "SD_betas_nb            = 0.5*(SD_betas_nb + SD_betas_nb.T)\n",
    "\n",
    "if np.allclose(np.matrix(SW_betas_nb),np.matrix(SW_betas_nb).H):\n",
    "    # If is Hermitian, perform scipy's eigh (WAY faster)\n",
    "    eigvals, A      = sp.linalg.eigh(SW_betas_nb, b=SD_betas_nb)\n",
    "else:\n",
    "    # Else, compute scipy's eig\n",
    "    eigvals, A      = sp.linalg.eig(SW_betas_nb,  b=SD_betas_nb)\n",
    "\n",
    "A                   = np.real(A)\n",
    "eigvals             = np.real(eigvals)\n",
    "A                   = A[:,(eigvals > self.eps).ravel()]\n",
    "eigvals             = eigvals[(eigvals > self.eps).ravel()]\n",
    "\n",
    "# Normalization to comply with original MATLAB code\n",
    "A                   = np.divide(A,np.linalg.norm(A,axis=0))\n",
    "\n",
    "self.A              = A\n",
    "self.SW_betas_nb       = SW_betas_nb\n",
    "self.SD_betas_nb       = SD_betas_nb\n"
   ]
  },
  {
   "cell_type": "code",
   "execution_count": 720,
   "metadata": {},
   "outputs": [
    {
     "data": {
      "text/plain": [
       "(True, True)"
      ]
     },
     "execution_count": 720,
     "metadata": {},
     "output_type": "execute_result"
    }
   ],
   "source": [
    "np.allclose(SW_betas_cpp,SW_betas_nb),np.allclose(SD_betas_nb,SD_betas_cpp)"
   ]
  },
  {
   "cell_type": "code",
   "execution_count": null,
   "metadata": {},
   "outputs": [],
   "source": []
  },
  {
   "cell_type": "markdown",
   "metadata": {},
   "source": [
    "# COMPUTE SWA"
   ]
  },
  {
   "cell_type": "code",
   "execution_count": 712,
   "metadata": {},
   "outputs": [
    {
     "name": "stdout",
     "output_type": "stream",
     "text": [
      "CPU times: user 286 ms, sys: 156 ms, total: 441 ms\n",
      "Wall time: 138 ms\n"
     ]
    }
   ],
   "source": [
    "%%time\n",
    "\n",
    "from joblib import Parallel\n",
    "from joblib import delayed\n",
    "from joblib.parallel import effective_n_jobs\n",
    "\n",
    "K = K.astype(\"float32\")\n",
    "D = D.astype(\"float64\")\n",
    "W = W.astype(\"float32\")\n",
    "\n",
    "self = PyMKL.MKL(K,W,D)\n",
    "\n",
    "# compute sides of GEP\n",
    "\n",
    "try:\n",
    "    numWorkers      = effective_n_jobs()\n",
    "    values          = PyMKL.lib.create_ivalues(numWorkers,self.N)\n",
    "    start_values    = values[0:-1]\n",
    "    end_values      = values[1:]\n",
    "\n",
    "    SW_betas        = np.zeros((self.N, self.N))\n",
    "    SD_betas        = np.zeros((self.N, self.N))\n",
    "\n",
    "    ParallelResult  = Parallel(n_jobs=numWorkers, prefer=\"threads\")(delayed(PyMKL.lib.computeSWB)(np.moveaxis(self.K,0,-1),self.betas,self.W,np.diag(self.D),start_values[i],end_values[i]) for i in range(len(start_values)))    \n",
    "\n",
    "    for (SW_betastmp,SD_betastmp) in ParallelResult:\n",
    "        SW_betas    = SW_betas + SW_betastmp\n",
    "        SD_betas    = SD_betas + SD_betastmp\n",
    "except NameError:\n",
    "    (SW_betas,SD_betas) = PyMKL.lib.computeSWB(np.moveaxis(self.K,0,-1),self.betas,self.W,np.diag(self.D).copy(),0,self.N)\n",
    "except KeyboardInterrupt:\n",
    "    raise\n",
    "\n",
    "SW_betas            = SW_betas + np.triu(SW_betas,1).T\n",
    "SD_betas            = SD_betas + np.triu(SD_betas,1).T\n",
    "\n",
    "## TRANSFORM THE MATRICES TO POSITIVE DEFINITE ##\n",
    "SW_betas            = np.real(PyMKL.lib.to_PDM(SW_betas, self.eps)) + self.eps*np.eye(self.N)\n",
    "SD_betas            = np.real(PyMKL.lib.to_PDM(SD_betas, self.eps)) + self.eps*np.eye(self.N)\n",
    "\n",
    "# Avoid numerical errors\n",
    "SW_betas            = 0.5*(SW_betas + SW_betas.T)\n",
    "SD_betas            = 0.5*(SD_betas + SD_betas.T)\n",
    "\n",
    "if np.allclose(np.matrix(SW_betas),np.matrix(SW_betas).H):\n",
    "    # If is Hermitian, perform scipy's eigh (WAY faster)\n",
    "    eigvals, A      = sp.linalg.eigh(SW_betas, b=SD_betas)\n",
    "else:\n",
    "    # Else, compute scipy's eig\n",
    "    eigvals, A      = sp.linalg.eig(SW_betas,  b=SD_betas)\n",
    "\n",
    "A                   = np.real(A)\n",
    "eigvals             = np.real(eigvals)\n",
    "A                   = A[:,(eigvals > self.eps).ravel()]\n",
    "eigvals             = eigvals[(eigvals > self.eps).ravel()]\n",
    "\n",
    "# Normalization to comply with original MATLAB code\n",
    "A                   = np.divide(A,np.linalg.norm(A,axis=0))\n",
    "\n",
    "self.A              = A\n",
    "self.SW_betas       = SW_betas\n",
    "self.SD_betas       = SD_betas\n",
    "\n",
    "# Use C compiled code\n",
    "try:\n",
    "    numWorkers      = effective_n_jobs()\n",
    "    values          = PyMKL.lib.create_ivalues(numWorkers,self.N)\n",
    "    start_values    = values[0:-1]\n",
    "    end_values      = values[1:]\n",
    "\n",
    "    SW_A_cpp            = np.zeros((self.M, self.M))\n",
    "    SD_A_cpp            = np.zeros((self.M, self.M))\n",
    "\n",
    "    ParallelResult  = Parallel(n_jobs=numWorkers, prefer=\"threads\")(delayed(PyMKL.lib.computeSWA)(np.moveaxis(self.K,0,-1),self.A,self.W,np.diag(self.D),start_values[i],end_values[i]) for i in range(len(start_values)))    \n",
    "\n",
    "    for (SW_A_cpptmp,SD_A_cpptmp) in ParallelResult:\n",
    "        SW_A_cpp        = SW_A_cpp + SW_A_cpptmp\n",
    "        SD_A_cpp        = SD_A_cpp + SD_A_cpptmp\n",
    "except NameError:\n",
    "    (SW_A_cpp,SD_A_cpp)     = PyMKL.lib.computeSWA(np.moveaxis(self.K,0,-1),self.A,self.W,np.diag(self.D),0,self.N)\n",
    "except KeyboardInterrupt:\n",
    "    raise\n",
    "\n",
    "# Solve solution throwing double the result in C compiled code\n",
    "SW_A_cpp                = (SW_A_cpp + np.triu(SW_A_cpp,1).T)\n",
    "SD_A_cpp                = (SD_A_cpp + np.triu(SD_A_cpp,1).T)\n",
    "\n",
    "SW_A_cpp                = 0.5 * (SW_A_cpp + SW_A_cpp.T)\n",
    "SD_A_cpp                = 0.5 * (SD_A_cpp + SD_A_cpp.T)\n",
    "\n",
    "self.SW_A_cpp           = SW_A_cpp\n",
    "self.SD_A_cpp           = SD_A_cpp\n"
   ]
  },
  {
   "cell_type": "code",
   "execution_count": 713,
   "metadata": {},
   "outputs": [
    {
     "name": "stdout",
     "output_type": "stream",
     "text": [
      "CPU times: user 388 ms, sys: 133 ms, total: 520 ms\n",
      "Wall time: 200 ms\n"
     ]
    }
   ],
   "source": [
    "%%time\n",
    "\n",
    "from joblib import Parallel\n",
    "from joblib import delayed\n",
    "from joblib.parallel import effective_n_jobs\n",
    "\n",
    "K = K.astype(\"float32\")\n",
    "D = D.astype(\"float64\")\n",
    "W = W.astype(\"float32\")\n",
    "\n",
    "self = PyMKL.MKL(K,W,D)\n",
    "\n",
    "# compute sides of GEP\n",
    "\n",
    "try:\n",
    "    numWorkers      = effective_n_jobs()\n",
    "    values          = PyMKL.lib.create_ivalues(numWorkers,self.N)\n",
    "    start_values    = values[0:-1]\n",
    "    end_values      = values[1:]\n",
    "\n",
    "    SW_betas        = np.zeros((self.N, self.N))\n",
    "    SD_betas        = np.zeros((self.N, self.N))\n",
    "\n",
    "    ParallelResult  = Parallel(n_jobs=numWorkers, prefer=\"threads\")(delayed(PyMKL.lib.computeSWB)(np.moveaxis(self.K,0,-1),self.betas,self.W,np.diag(self.D),start_values[i],end_values[i]) for i in range(len(start_values)))    \n",
    "\n",
    "    for (SW_betastmp,SD_betastmp) in ParallelResult:\n",
    "        SW_betas    = SW_betas + SW_betastmp\n",
    "        SD_betas    = SD_betas + SD_betastmp\n",
    "except NameError:\n",
    "    (SW_betas,SD_betas) = PyMKL.lib.computeSWB(np.moveaxis(self.K,0,-1),self.betas,self.W,np.diag(self.D).copy(),0,self.N)\n",
    "except KeyboardInterrupt:\n",
    "    raise\n",
    "\n",
    "SW_betas            = SW_betas + np.triu(SW_betas,1).T\n",
    "SD_betas            = SD_betas + np.triu(SD_betas,1).T\n",
    "\n",
    "## TRANSFORM THE MATRICES TO POSITIVE DEFINITE ##\n",
    "SW_betas            = np.real(PyMKL.lib.to_PDM(SW_betas, self.eps)) + self.eps*np.eye(self.N)\n",
    "SD_betas            = np.real(PyMKL.lib.to_PDM(SD_betas, self.eps)) + self.eps*np.eye(self.N)\n",
    "\n",
    "# Avoid numerical errors\n",
    "SW_betas            = 0.5*(SW_betas + SW_betas.T)\n",
    "SD_betas            = 0.5*(SD_betas + SD_betas.T)\n",
    "\n",
    "if np.allclose(np.matrix(SW_betas),np.matrix(SW_betas).H):\n",
    "    # If is Hermitian, perform scipy's eigh (WAY faster)\n",
    "    eigvals, A      = sp.linalg.eigh(SW_betas, b=SD_betas)\n",
    "else:\n",
    "    # Else, compute scipy's eig\n",
    "    eigvals, A      = sp.linalg.eig(SW_betas,  b=SD_betas)\n",
    "\n",
    "A                   = np.real(A)\n",
    "eigvals             = np.real(eigvals)\n",
    "A                   = A[:,(eigvals > self.eps).ravel()]\n",
    "eigvals             = eigvals[(eigvals > self.eps).ravel()]\n",
    "\n",
    "# Normalization to comply with original MATLAB code\n",
    "A                   = np.divide(A,np.linalg.norm(A,axis=0))\n",
    "\n",
    "self.A              = A\n",
    "self.SW_betas       = SW_betas\n",
    "self.SD_betas       = SD_betas\n",
    "\n",
    "# Use C compiled code\n",
    "try:\n",
    "    numWorkers      = effective_n_jobs()\n",
    "    values          = PyMKL.lib.create_ivalues(numWorkers,self.N)\n",
    "    start_values    = values[0:-1]\n",
    "    end_values      = values[1:]\n",
    "\n",
    "    SW_A_nb,SD_A_nb = computeSWA(np.moveaxis(self.K,0,-1),self.A,self.W,np.diag(self.D).copy(),0,N)\n",
    "except:\n",
    "    raise\n",
    "\n",
    "# Solve solution throwing double the result in C compiled code\n",
    "SW_A_nb                = (SW_A_nb + np.triu(SW_A_nb,1).T)\n",
    "SD_A_nb                = (SD_A_nb + np.triu(SD_A_nb,1).T)\n",
    "\n",
    "SW_A_nb                = 0.5 * (SW_A_nb + SW_A_nb.T)\n",
    "SD_A_nb                = 0.5 * (SD_A_nb + SD_A_nb.T)\n",
    "\n",
    "self.SW_A_nb           = SW_A_nb\n",
    "self.SD_A_nb           = SD_A_nb\n"
   ]
  },
  {
   "cell_type": "code",
   "execution_count": null,
   "metadata": {},
   "outputs": [],
   "source": []
  },
  {
   "cell_type": "code",
   "execution_count": null,
   "metadata": {},
   "outputs": [],
   "source": []
  },
  {
   "cell_type": "code",
   "execution_count": 741,
   "metadata": {},
   "outputs": [],
   "source": [
    "from setuptools import setup"
   ]
  },
  {
   "cell_type": "code",
   "execution_count": null,
   "metadata": {},
   "outputs": [],
   "source": [
    "setup()"
   ]
  },
  {
   "cell_type": "code",
   "execution_count": null,
   "metadata": {},
   "outputs": [],
   "source": []
  },
  {
   "cell_type": "code",
   "execution_count": 716,
   "metadata": {},
   "outputs": [
    {
     "data": {
      "text/plain": [
       "(True, True)"
      ]
     },
     "execution_count": 716,
     "metadata": {},
     "output_type": "execute_result"
    }
   ],
   "source": [
    "np.allclose(SW_A_cpp,SW_A_nb),np.allclose(SD_A_cpp,SD_A_nb)"
   ]
  },
  {
   "cell_type": "code",
   "execution_count": null,
   "metadata": {},
   "outputs": [],
   "source": []
  },
  {
   "cell_type": "code",
   "execution_count": null,
   "metadata": {},
   "outputs": [],
   "source": []
  },
  {
   "cell_type": "markdown",
   "metadata": {},
   "source": [
    "# COMPUTE ENERGY"
   ]
  },
  {
   "cell_type": "code",
   "execution_count": 733,
   "metadata": {},
   "outputs": [],
   "source": [
    "import numpy as np\n",
    "import picos as pic\n",
    "import warnings\n",
    "import tqdm\n",
    "from scipy.linalg import eig\n",
    "from scipy.linalg import eigh\n",
    "from scipy.spatial.distance import pdist\n",
    "from scipy.spatial.distance import squareform\n",
    "from cvxopt import matrix\n"
   ]
  },
  {
   "cell_type": "code",
   "execution_count": 734,
   "metadata": {},
   "outputs": [
    {
     "name": "stderr",
     "output_type": "stream",
     "text": [
      "<timed exec>:93: DeprecationWarning: Problem.add_variable is deprecated: Variables can now be created independent of problems, and do not need to be added to any problem explicitly.\n",
      "<timed exec>:94: DeprecationWarning: Problem.add_variable is deprecated: Variables can now be created independent of problems, and do not need to be added to any problem explicitly.\n",
      "<timed exec>:101: DeprecationWarning: Option 'solve_via_dual' is deprecated, use 'dualize'.\n",
      "<timed exec>:101: DeprecationWarning: Option 'verbose' is deprecated, use 'verbosity'.\n"
     ]
    },
    {
     "name": "stdout",
     "output_type": "stream",
     "text": [
      "CPU times: user 14.1 s, sys: 10.9 s, total: 24.9 s\n",
      "Wall time: 6.91 s\n"
     ]
    }
   ],
   "source": [
    "%%time\n",
    "\n",
    "from joblib import Parallel\n",
    "from joblib import delayed\n",
    "from joblib.parallel import effective_n_jobs\n",
    "\n",
    "K = K.astype(\"float32\")\n",
    "D = D.astype(\"float64\")\n",
    "W = W.astype(\"float32\")\n",
    "\n",
    "self = PyMKL.MKL(K,W,D,solver=\"smcp\")\n",
    "\n",
    "# compute sides of GEP\n",
    "\n",
    "try:\n",
    "    numWorkers      = effective_n_jobs()\n",
    "    values          = PyMKL.lib.create_ivalues(numWorkers,self.N)\n",
    "    start_values    = values[0:-1]\n",
    "    end_values      = values[1:]\n",
    "\n",
    "    SW_betas        = np.zeros((self.N, self.N))\n",
    "    SD_betas        = np.zeros((self.N, self.N))\n",
    "\n",
    "    ParallelResult  = Parallel(n_jobs=numWorkers, prefer=\"threads\")(delayed(PyMKL.lib.computeSWB)(np.moveaxis(self.K,0,-1),self.betas,self.W,np.diag(self.D),start_values[i],end_values[i]) for i in range(len(start_values)))    \n",
    "\n",
    "    for (SW_betastmp,SD_betastmp) in ParallelResult:\n",
    "        SW_betas    = SW_betas + SW_betastmp\n",
    "        SD_betas    = SD_betas + SD_betastmp\n",
    "except NameError:\n",
    "    (SW_betas,SD_betas) = PyMKL.lib.computeSWB(np.moveaxis(self.K,0,-1),self.betas,self.W,np.diag(self.D).copy(),0,self.N)\n",
    "except KeyboardInterrupt:\n",
    "    raise\n",
    "\n",
    "SW_betas            = SW_betas + np.triu(SW_betas,1).T\n",
    "SD_betas            = SD_betas + np.triu(SD_betas,1).T\n",
    "\n",
    "## TRANSFORM THE MATRICES TO POSITIVE DEFINITE ##\n",
    "SW_betas            = np.real(PyMKL.lib.to_PDM(SW_betas, self.eps)) + self.eps*np.eye(self.N)\n",
    "SD_betas            = np.real(PyMKL.lib.to_PDM(SD_betas, self.eps)) + self.eps*np.eye(self.N)\n",
    "\n",
    "# Avoid numerical errors\n",
    "SW_betas            = 0.5*(SW_betas + SW_betas.T)\n",
    "SD_betas            = 0.5*(SD_betas + SD_betas.T)\n",
    "\n",
    "if np.allclose(np.matrix(SW_betas),np.matrix(SW_betas).H):\n",
    "    # If is Hermitian, perform scipy's eigh (WAY faster)\n",
    "    eigvals, A      = sp.linalg.eigh(SW_betas, b=SD_betas)\n",
    "else:\n",
    "    # Else, compute scipy's eig\n",
    "    eigvals, A      = sp.linalg.eig(SW_betas,  b=SD_betas)\n",
    "\n",
    "A                   = np.real(A)\n",
    "eigvals             = np.real(eigvals)\n",
    "A                   = A[:,(eigvals > self.eps).ravel()]\n",
    "eigvals             = eigvals[(eigvals > self.eps).ravel()]\n",
    "\n",
    "# Normalization to comply with original MATLAB code\n",
    "A                   = np.divide(A,np.linalg.norm(A,axis=0))\n",
    "\n",
    "self.A              = A\n",
    "self.SW_betas       = SW_betas\n",
    "self.SD_betas       = SD_betas\n",
    "\n",
    "# Use C compiled code\n",
    "try:\n",
    "    numWorkers      = effective_n_jobs()\n",
    "    values          = PyMKL.lib.create_ivalues(numWorkers,self.N)\n",
    "    start_values    = values[0:-1]\n",
    "    end_values      = values[1:]\n",
    "\n",
    "    SW_A            = np.zeros((self.M, self.M))\n",
    "    SD_A            = np.zeros((self.M, self.M))\n",
    "\n",
    "    ParallelResult  = Parallel(n_jobs=numWorkers, prefer=\"threads\")(delayed(PyMKL.lib.computeSWA)(np.moveaxis(self.K,0,-1),self.A,self.W,np.diag(self.D),start_values[i],end_values[i]) for i in range(len(start_values)))    \n",
    "\n",
    "    for (SW_Atmp,SD_Atmp) in ParallelResult:\n",
    "        SW_A        = SW_A + SW_Atmp\n",
    "        SD_A        = SD_A + SD_Atmp\n",
    "except NameError:\n",
    "    (SW_A,SD_A)     = PyMKL.lib.computeSWA(np.moveaxis(self.K,0,-1),self.A,self.W,np.diag(self.D),0,self.N)\n",
    "except KeyboardInterrupt:\n",
    "    raise\n",
    "\n",
    "# Solve solution throwing double the result in C compiled code\n",
    "SW_A                = (SW_A + np.triu(SW_A,1).T)\n",
    "SD_A                = (SD_A + np.triu(SD_A,1).T)\n",
    "\n",
    "SW_A                = 0.5 * (SW_A + SW_A.T)\n",
    "SD_A                = 0.5 * (SD_A + SD_A.T)\n",
    "\n",
    "self.SW_A           = SW_A\n",
    "self.SD_A           = SD_A\n",
    "\n",
    "sdp                 = pic.Problem()\n",
    "B                   = sdp.add_variable('B',(self.M,self.M),vtype='symmetric')\n",
    "betas               = sdp.add_variable('betas',(self.M,1))\n",
    "sdp.set_objective('min','I'|matrix(self.SW_A)*B)\n",
    "sdp.add_constraint('I'|matrix(self.SD_A)*B >= 0)\n",
    "sdp.add_constraint(betas >= 0)\n",
    "# sdp.add_constraint(pic.sum([betas[i] for i in range(self.M)],'i','0...'+str(self.M)) == 1)\n",
    "sdp.add_constraint(((1 & betas.T) // (betas & B))>>0 )\n",
    "\n",
    "sdp.solve(solver=self.solver, solve_via_dual=False, verbose=False)\n",
    "\n",
    "betas               = np.array(betas.value)\n",
    "betas               = betas/np.sum(betas)\n",
    "\n",
    "self.betas          = betas\n",
    "\n",
    "try:\n",
    "    numWorkers      = effective_n_jobs()\n",
    "    values          = PyMKL.lib.create_ivalues(numWorkers,self.N)\n",
    "    start_values    = values[0:-1]\n",
    "    end_values      = values[1:]\n",
    "\n",
    "    gap_cpp             = 0\n",
    "    constr_cpp          = 0\n",
    "\n",
    "    ParallelResult = Parallel(n_jobs=numWorkers, prefer=\"threads\")(delayed(PyMKL.lib.computeENERGY)(np.moveaxis(self.K,0,-1), self.betas, self.A, self.W, np.diag(self.D), start_values[i],end_values[i]) for i in range(len(start_values)))\n",
    "\n",
    "    for (gap_cpptmp,constr_cpptmp) in ParallelResult:\n",
    "        gap_cpp         = gap_cpp    + gap_cpptmp\n",
    "        constr_cpp      = constr_cpp + constr_cpptmp\n",
    "\n",
    "    gap_cpp             = gap_cpp\n",
    "    constr_cpp          = constr_cpp\n",
    "except NameError:\n",
    "    (gap_cpp, constr_cpp)   = PyMKL.lib.computeENERGY(np.moveaxis(self.K,0,-1), self.betas, self.A, self.W, np.diag(self.D), 0, self.N)\n",
    "except KeyboardInterrupt:\n",
    "    raise\n",
    "\n",
    "# Store energy\n",
    "self.energy_cpp = [gap_cpp]\n",
    "self.constr_cpp = [constr_cpp]\n"
   ]
  },
  {
   "cell_type": "code",
   "execution_count": null,
   "metadata": {},
   "outputs": [],
   "source": []
  },
  {
   "cell_type": "code",
   "execution_count": 735,
   "metadata": {},
   "outputs": [
    {
     "name": "stderr",
     "output_type": "stream",
     "text": [
      "<timed exec>:93: DeprecationWarning: Problem.add_variable is deprecated: Variables can now be created independent of problems, and do not need to be added to any problem explicitly.\n",
      "<timed exec>:94: DeprecationWarning: Problem.add_variable is deprecated: Variables can now be created independent of problems, and do not need to be added to any problem explicitly.\n",
      "<timed exec>:101: DeprecationWarning: Option 'solve_via_dual' is deprecated, use 'dualize'.\n",
      "<timed exec>:101: DeprecationWarning: Option 'verbose' is deprecated, use 'verbosity'.\n"
     ]
    },
    {
     "name": "stdout",
     "output_type": "stream",
     "text": [
      "CPU times: user 15 s, sys: 11.7 s, total: 26.8 s\n",
      "Wall time: 7.27 s\n"
     ]
    }
   ],
   "source": [
    "%%time\n",
    "\n",
    "from joblib import Parallel\n",
    "from joblib import delayed\n",
    "from joblib.parallel import effective_n_jobs\n",
    "\n",
    "K = K.astype(\"float32\")\n",
    "D = D.astype(\"float64\")\n",
    "W = W.astype(\"float32\")\n",
    "\n",
    "self = PyMKL.MKL(K,W,D, solver=\"smcp\")\n",
    "\n",
    "# compute sides of GEP\n",
    "\n",
    "try:\n",
    "    numWorkers      = effective_n_jobs()\n",
    "    values          = PyMKL.lib.create_ivalues(numWorkers,self.N)\n",
    "    start_values    = values[0:-1]\n",
    "    end_values      = values[1:]\n",
    "\n",
    "    SW_betas        = np.zeros((self.N, self.N))\n",
    "    SD_betas        = np.zeros((self.N, self.N))\n",
    "\n",
    "    ParallelResult  = Parallel(n_jobs=numWorkers, prefer=\"threads\")(delayed(PyMKL.lib.computeSWB)(np.moveaxis(self.K,0,-1),self.betas,self.W,np.diag(self.D),start_values[i],end_values[i]) for i in range(len(start_values)))    \n",
    "\n",
    "    for (SW_betastmp,SD_betastmp) in ParallelResult:\n",
    "        SW_betas    = SW_betas + SW_betastmp\n",
    "        SD_betas    = SD_betas + SD_betastmp\n",
    "except NameError:\n",
    "    (SW_betas,SD_betas) = PyMKL.lib.computeSWB(np.moveaxis(self.K,0,-1),self.betas,self.W,np.diag(self.D).copy(),0,self.N)\n",
    "except KeyboardInterrupt:\n",
    "    raise\n",
    "\n",
    "SW_betas            = SW_betas + np.triu(SW_betas,1).T\n",
    "SD_betas            = SD_betas + np.triu(SD_betas,1).T\n",
    "\n",
    "## TRANSFORM THE MATRICES TO POSITIVE DEFINITE ##\n",
    "SW_betas            = np.real(PyMKL.lib.to_PDM(SW_betas, self.eps)) + self.eps*np.eye(self.N)\n",
    "SD_betas            = np.real(PyMKL.lib.to_PDM(SD_betas, self.eps)) + self.eps*np.eye(self.N)\n",
    "\n",
    "# Avoid numerical errors\n",
    "SW_betas            = 0.5*(SW_betas + SW_betas.T)\n",
    "SD_betas            = 0.5*(SD_betas + SD_betas.T)\n",
    "\n",
    "if np.allclose(np.matrix(SW_betas),np.matrix(SW_betas).H):\n",
    "    # If is Hermitian, perform scipy's eigh (WAY faster)\n",
    "    eigvals, A      = sp.linalg.eigh(SW_betas, b=SD_betas)\n",
    "else:\n",
    "    # Else, compute scipy's eig\n",
    "    eigvals, A      = sp.linalg.eig(SW_betas,  b=SD_betas)\n",
    "\n",
    "A                   = np.real(A)\n",
    "eigvals             = np.real(eigvals)\n",
    "A                   = A[:,(eigvals > self.eps).ravel()]\n",
    "eigvals             = eigvals[(eigvals > self.eps).ravel()]\n",
    "\n",
    "# Normalization to comply with original MATLAB code\n",
    "A                   = np.divide(A,np.linalg.norm(A,axis=0))\n",
    "\n",
    "self.A              = A\n",
    "self.SW_betas       = SW_betas\n",
    "self.SD_betas       = SD_betas\n",
    "\n",
    "# Use C compiled code\n",
    "try:\n",
    "    numWorkers      = effective_n_jobs()\n",
    "    values          = PyMKL.lib.create_ivalues(numWorkers,self.N)\n",
    "    start_values    = values[0:-1]\n",
    "    end_values      = values[1:]\n",
    "\n",
    "    SW_A            = np.zeros((self.M, self.M))\n",
    "    SD_A            = np.zeros((self.M, self.M))\n",
    "\n",
    "    ParallelResult  = Parallel(n_jobs=numWorkers, prefer=\"threads\")(delayed(PyMKL.lib.computeSWA)(np.moveaxis(self.K,0,-1),self.A,self.W,np.diag(self.D),start_values[i],end_values[i]) for i in range(len(start_values)))    \n",
    "\n",
    "    for (SW_Atmp,SD_Atmp) in ParallelResult:\n",
    "        SW_A        = SW_A + SW_Atmp\n",
    "        SD_A        = SD_A + SD_Atmp\n",
    "except NameError:\n",
    "    (SW_A,SD_A)     = PyMKL.lib.computeSWA(np.moveaxis(self.K,0,-1),self.A,self.W,np.diag(self.D),0,self.N)\n",
    "except KeyboardInterrupt:\n",
    "    raise\n",
    "\n",
    "# Solve solution throwing double the result in C compiled code\n",
    "SW_A                = (SW_A + np.triu(SW_A,1).T)\n",
    "SD_A                = (SD_A + np.triu(SD_A,1).T)\n",
    "\n",
    "SW_A                = 0.5 * (SW_A + SW_A.T)\n",
    "SD_A                = 0.5 * (SD_A + SD_A.T)\n",
    "\n",
    "self.SW_A           = SW_A\n",
    "self.SD_A           = SD_A\n",
    "\n",
    "sdp                 = pic.Problem()\n",
    "B                   = sdp.add_variable('B',(self.M,self.M),vtype='symmetric')\n",
    "betas               = sdp.add_variable('betas',(self.M,1))\n",
    "sdp.set_objective('min','I'|matrix(self.SW_A)*B)\n",
    "sdp.add_constraint('I'|matrix(self.SD_A)*B >= 0)\n",
    "sdp.add_constraint(betas >= 0)\n",
    "# sdp.add_constraint(pic.sum([betas[i] for i in range(self.M)],'i','0...'+str(self.M)) == 1)\n",
    "sdp.add_constraint(((1 & betas.T) // (betas & B))>>0 )\n",
    "\n",
    "sdp.solve(solver=self.solver, solve_via_dual=False, verbose=False)\n",
    "\n",
    "betas               = np.array(betas.value)\n",
    "betas               = betas/np.sum(betas)\n",
    "\n",
    "self.betas          = betas\n",
    "\n",
    "try:\n",
    "    numWorkers      = effective_n_jobs()\n",
    "    values          = PyMKL.lib.create_ivalues(numWorkers,self.N)\n",
    "    start_values    = values[0:-1]\n",
    "    end_values      = values[1:]\n",
    "\n",
    "    gap_nb             = 0\n",
    "    constr_nb          = 0\n",
    "\n",
    "    ParallelResult = Parallel(n_jobs=numWorkers, prefer=\"threads\")(delayed(PyMKL.lib.computeENERGY)(np.moveaxis(self.K,0,-1), self.betas, self.A, self.W, np.diag(self.D), start_values[i],end_values[i]) for i in range(len(start_values)))\n",
    "\n",
    "    for (gap_nbtmp,constr_nbtmp) in ParallelResult:\n",
    "        gap_nb         = gap_nb    + gap_nbtmp\n",
    "        constr_nb      = constr_nb + constr_nbtmp\n",
    "\n",
    "    gap_nb             = gap_nb\n",
    "    constr_nb          = constr_nb\n",
    "except NameError:\n",
    "    (gap_nb, constr_nb)   = PyMKL.lib.computeENERGY(np.moveaxis(self.K,0,-1), self.betas, self.A, self.W, np.diag(self.D), 0, self.N)\n",
    "except KeyboardInterrupt:\n",
    "    raise\n",
    "\n",
    "# Store energy\n",
    "self.energy_nb = [gap_nb]\n",
    "self.constr_nb = [constr_nb]\n"
   ]
  },
  {
   "cell_type": "code",
   "execution_count": 738,
   "metadata": {},
   "outputs": [
    {
     "data": {
      "text/plain": [
       "(True, True)"
      ]
     },
     "execution_count": 738,
     "metadata": {},
     "output_type": "execute_result"
    }
   ],
   "source": [
    "np.allclose(gap_nb,gap_cpp),np.allclose(constr_nb,constr_cpp)"
   ]
  },
  {
   "cell_type": "code",
   "execution_count": null,
   "metadata": {},
   "outputs": [],
   "source": []
  },
  {
   "cell_type": "code",
   "execution_count": null,
   "metadata": {},
   "outputs": [],
   "source": []
  },
  {
   "cell_type": "code",
   "execution_count": null,
   "metadata": {},
   "outputs": [],
   "source": []
  },
  {
   "cell_type": "code",
   "execution_count": null,
   "metadata": {},
   "outputs": [],
   "source": []
  },
  {
   "cell_type": "code",
   "execution_count": null,
   "metadata": {},
   "outputs": [],
   "source": []
  },
  {
   "cell_type": "code",
   "execution_count": null,
   "metadata": {},
   "outputs": [],
   "source": []
  },
  {
   "cell_type": "markdown",
   "metadata": {},
   "source": [
    "# Compile C++ code"
   ]
  },
  {
   "cell_type": "code",
   "execution_count": 4,
   "metadata": {},
   "outputs": [
    {
     "name": "stderr",
     "output_type": "stream",
     "text": [
      "ERROR:root:Internal Python error in the inspect module.\n",
      "Below is the traceback from this internal error.\n",
      "\n"
     ]
    },
    {
     "name": "stdout",
     "output_type": "stream",
     "text": [
      "Traceback (most recent call last):\n",
      "  File \"/usr/lib/python3.8/distutils/fancy_getopt.py\", line 233, in getopt\n",
      "    opts, args = getopt.getopt(args, short_opts, self.long_opts)\n",
      "  File \"/usr/lib/python3.8/getopt.py\", line 95, in getopt\n",
      "    opts, args = do_shorts(opts, args[0][1:], shortopts, args[1:])\n",
      "  File \"/usr/lib/python3.8/getopt.py\", line 195, in do_shorts\n",
      "    if short_has_arg(opt, shortopts):\n",
      "  File \"/usr/lib/python3.8/getopt.py\", line 211, in short_has_arg\n",
      "    raise GetoptError(_('option -%s not recognized') % opt, opt)\n",
      "getopt.GetoptError: option -f not recognized\n",
      "\n",
      "During handling of the above exception, another exception occurred:\n",
      "\n",
      "Traceback (most recent call last):\n",
      "  File \"/usr/lib/python3.8/distutils/core.py\", line 134, in setup\n",
      "    ok = dist.parse_command_line()\n",
      "  File \"/usr/lib/python3.8/distutils/dist.py\", line 475, in parse_command_line\n",
      "    args = parser.getopt(args=self.script_args, object=self)\n",
      "  File \"/usr/lib/python3.8/distutils/fancy_getopt.py\", line 235, in getopt\n",
      "    raise DistutilsArgError(msg)\n",
      "distutils.errors.DistutilsArgError: option -f not recognized\n",
      "\n",
      "During handling of the above exception, another exception occurred:\n",
      "\n",
      "Traceback (most recent call last):\n",
      "  File \"/usr/lib/python3/dist-packages/IPython/core/interactiveshell.py\", line 3331, in run_code\n",
      "    exec(code_obj, self.user_global_ns, self.user_ns)\n",
      "  File \"<ipython-input-4-b52944c1640f>\", line 23, in <module>\n",
      "    setup(\n",
      "  File \"/home/guille/VirtEnv/DeepLearning3/lib/python3.8/site-packages/setuptools/__init__.py\", line 163, in setup\n",
      "    return distutils.core.setup(**attrs)\n",
      "  File \"/usr/lib/python3.8/distutils/core.py\", line 136, in setup\n",
      "    raise SystemExit(gen_usage(dist.script_name) + \"\\nerror: %s\" % msg)\n",
      "SystemExit: usage: ipykernel_launcher.py [global_opts] cmd1 [cmd1_opts] [cmd2 [cmd2_opts] ...]\n",
      "   or: ipykernel_launcher.py --help [cmd1 cmd2 ...]\n",
      "   or: ipykernel_launcher.py --help-commands\n",
      "   or: ipykernel_launcher.py cmd --help\n",
      "\n",
      "error: option -f not recognized\n",
      "\n",
      "During handling of the above exception, another exception occurred:\n",
      "\n",
      "Traceback (most recent call last):\n",
      "  File \"/usr/lib/python3/dist-packages/IPython/core/ultratb.py\", line 1148, in get_records\n",
      "    return _fixed_getinnerframes(etb, number_of_lines_of_context, tb_offset)\n",
      "  File \"/usr/lib/python3/dist-packages/IPython/core/ultratb.py\", line 316, in wrapped\n",
      "    return f(*args, **kwargs)\n",
      "  File \"/usr/lib/python3/dist-packages/IPython/core/ultratb.py\", line 350, in _fixed_getinnerframes\n",
      "    records = fix_frame_records_filenames(inspect.getinnerframes(etb, context))\n",
      "  File \"/usr/lib/python3.8/inspect.py\", line 1515, in getinnerframes\n",
      "    frameinfo = (tb.tb_frame,) + getframeinfo(tb, context)\n",
      "AttributeError: 'tuple' object has no attribute 'tb_frame'\n"
     ]
    },
    {
     "ename": "TypeError",
     "evalue": "can only concatenate str (not \"list\") to str",
     "output_type": "error",
     "traceback": [
      "\u001b[0;31m---------------------------------------------------------------------------\u001b[0m",
      "\u001b[0;31mGetoptError\u001b[0m                               Traceback (most recent call last)",
      "\u001b[0;32m/usr/lib/python3.8/distutils/fancy_getopt.py\u001b[0m in \u001b[0;36mgetopt\u001b[0;34m(self, args, object)\u001b[0m\n\u001b[1;32m    232\u001b[0m         \u001b[0;32mtry\u001b[0m\u001b[0;34m:\u001b[0m\u001b[0;34m\u001b[0m\u001b[0;34m\u001b[0m\u001b[0m\n\u001b[0;32m--> 233\u001b[0;31m             \u001b[0mopts\u001b[0m\u001b[0;34m,\u001b[0m \u001b[0margs\u001b[0m \u001b[0;34m=\u001b[0m \u001b[0mgetopt\u001b[0m\u001b[0;34m.\u001b[0m\u001b[0mgetopt\u001b[0m\u001b[0;34m(\u001b[0m\u001b[0margs\u001b[0m\u001b[0;34m,\u001b[0m \u001b[0mshort_opts\u001b[0m\u001b[0;34m,\u001b[0m \u001b[0mself\u001b[0m\u001b[0;34m.\u001b[0m\u001b[0mlong_opts\u001b[0m\u001b[0;34m)\u001b[0m\u001b[0;34m\u001b[0m\u001b[0;34m\u001b[0m\u001b[0m\n\u001b[0m\u001b[1;32m    234\u001b[0m         \u001b[0;32mexcept\u001b[0m \u001b[0mgetopt\u001b[0m\u001b[0;34m.\u001b[0m\u001b[0merror\u001b[0m \u001b[0;32mas\u001b[0m \u001b[0mmsg\u001b[0m\u001b[0;34m:\u001b[0m\u001b[0;34m\u001b[0m\u001b[0;34m\u001b[0m\u001b[0m\n",
      "\u001b[0;32m/usr/lib/python3.8/getopt.py\u001b[0m in \u001b[0;36mgetopt\u001b[0;34m(args, shortopts, longopts)\u001b[0m\n\u001b[1;32m     94\u001b[0m         \u001b[0;32melse\u001b[0m\u001b[0;34m:\u001b[0m\u001b[0;34m\u001b[0m\u001b[0;34m\u001b[0m\u001b[0m\n\u001b[0;32m---> 95\u001b[0;31m             \u001b[0mopts\u001b[0m\u001b[0;34m,\u001b[0m \u001b[0margs\u001b[0m \u001b[0;34m=\u001b[0m \u001b[0mdo_shorts\u001b[0m\u001b[0;34m(\u001b[0m\u001b[0mopts\u001b[0m\u001b[0;34m,\u001b[0m \u001b[0margs\u001b[0m\u001b[0;34m[\u001b[0m\u001b[0;36m0\u001b[0m\u001b[0;34m]\u001b[0m\u001b[0;34m[\u001b[0m\u001b[0;36m1\u001b[0m\u001b[0;34m:\u001b[0m\u001b[0;34m]\u001b[0m\u001b[0;34m,\u001b[0m \u001b[0mshortopts\u001b[0m\u001b[0;34m,\u001b[0m \u001b[0margs\u001b[0m\u001b[0;34m[\u001b[0m\u001b[0;36m1\u001b[0m\u001b[0;34m:\u001b[0m\u001b[0;34m]\u001b[0m\u001b[0;34m)\u001b[0m\u001b[0;34m\u001b[0m\u001b[0;34m\u001b[0m\u001b[0m\n\u001b[0m\u001b[1;32m     96\u001b[0m \u001b[0;34m\u001b[0m\u001b[0m\n",
      "\u001b[0;32m/usr/lib/python3.8/getopt.py\u001b[0m in \u001b[0;36mdo_shorts\u001b[0;34m(opts, optstring, shortopts, args)\u001b[0m\n\u001b[1;32m    194\u001b[0m         \u001b[0mopt\u001b[0m\u001b[0;34m,\u001b[0m \u001b[0moptstring\u001b[0m \u001b[0;34m=\u001b[0m \u001b[0moptstring\u001b[0m\u001b[0;34m[\u001b[0m\u001b[0;36m0\u001b[0m\u001b[0;34m]\u001b[0m\u001b[0;34m,\u001b[0m \u001b[0moptstring\u001b[0m\u001b[0;34m[\u001b[0m\u001b[0;36m1\u001b[0m\u001b[0;34m:\u001b[0m\u001b[0;34m]\u001b[0m\u001b[0;34m\u001b[0m\u001b[0;34m\u001b[0m\u001b[0m\n\u001b[0;32m--> 195\u001b[0;31m         \u001b[0;32mif\u001b[0m \u001b[0mshort_has_arg\u001b[0m\u001b[0;34m(\u001b[0m\u001b[0mopt\u001b[0m\u001b[0;34m,\u001b[0m \u001b[0mshortopts\u001b[0m\u001b[0;34m)\u001b[0m\u001b[0;34m:\u001b[0m\u001b[0;34m\u001b[0m\u001b[0;34m\u001b[0m\u001b[0m\n\u001b[0m\u001b[1;32m    196\u001b[0m             \u001b[0;32mif\u001b[0m \u001b[0moptstring\u001b[0m \u001b[0;34m==\u001b[0m \u001b[0;34m''\u001b[0m\u001b[0;34m:\u001b[0m\u001b[0;34m\u001b[0m\u001b[0;34m\u001b[0m\u001b[0m\n",
      "\u001b[0;32m/usr/lib/python3.8/getopt.py\u001b[0m in \u001b[0;36mshort_has_arg\u001b[0;34m(opt, shortopts)\u001b[0m\n\u001b[1;32m    210\u001b[0m             \u001b[0;32mreturn\u001b[0m \u001b[0mshortopts\u001b[0m\u001b[0;34m.\u001b[0m\u001b[0mstartswith\u001b[0m\u001b[0;34m(\u001b[0m\u001b[0;34m':'\u001b[0m\u001b[0;34m,\u001b[0m \u001b[0mi\u001b[0m\u001b[0;34m+\u001b[0m\u001b[0;36m1\u001b[0m\u001b[0;34m)\u001b[0m\u001b[0;34m\u001b[0m\u001b[0;34m\u001b[0m\u001b[0m\n\u001b[0;32m--> 211\u001b[0;31m     \u001b[0;32mraise\u001b[0m \u001b[0mGetoptError\u001b[0m\u001b[0;34m(\u001b[0m\u001b[0m_\u001b[0m\u001b[0;34m(\u001b[0m\u001b[0;34m'option -%s not recognized'\u001b[0m\u001b[0;34m)\u001b[0m \u001b[0;34m%\u001b[0m \u001b[0mopt\u001b[0m\u001b[0;34m,\u001b[0m \u001b[0mopt\u001b[0m\u001b[0;34m)\u001b[0m\u001b[0;34m\u001b[0m\u001b[0;34m\u001b[0m\u001b[0m\n\u001b[0m\u001b[1;32m    212\u001b[0m \u001b[0;34m\u001b[0m\u001b[0m\n",
      "\u001b[0;31mGetoptError\u001b[0m: option -f not recognized",
      "\nDuring handling of the above exception, another exception occurred:\n",
      "\u001b[0;31mDistutilsArgError\u001b[0m                         Traceback (most recent call last)",
      "\u001b[0;32m/usr/lib/python3.8/distutils/core.py\u001b[0m in \u001b[0;36msetup\u001b[0;34m(**attrs)\u001b[0m\n\u001b[1;32m    133\u001b[0m     \u001b[0;32mtry\u001b[0m\u001b[0;34m:\u001b[0m\u001b[0;34m\u001b[0m\u001b[0;34m\u001b[0m\u001b[0m\n\u001b[0;32m--> 134\u001b[0;31m         \u001b[0mok\u001b[0m \u001b[0;34m=\u001b[0m \u001b[0mdist\u001b[0m\u001b[0;34m.\u001b[0m\u001b[0mparse_command_line\u001b[0m\u001b[0;34m(\u001b[0m\u001b[0;34m)\u001b[0m\u001b[0;34m\u001b[0m\u001b[0;34m\u001b[0m\u001b[0m\n\u001b[0m\u001b[1;32m    135\u001b[0m     \u001b[0;32mexcept\u001b[0m \u001b[0mDistutilsArgError\u001b[0m \u001b[0;32mas\u001b[0m \u001b[0mmsg\u001b[0m\u001b[0;34m:\u001b[0m\u001b[0;34m\u001b[0m\u001b[0;34m\u001b[0m\u001b[0m\n",
      "\u001b[0;32m/usr/lib/python3.8/distutils/dist.py\u001b[0m in \u001b[0;36mparse_command_line\u001b[0;34m(self)\u001b[0m\n\u001b[1;32m    474\u001b[0m         \u001b[0mparser\u001b[0m\u001b[0;34m.\u001b[0m\u001b[0mset_aliases\u001b[0m\u001b[0;34m(\u001b[0m\u001b[0;34m{\u001b[0m\u001b[0;34m'licence'\u001b[0m\u001b[0;34m:\u001b[0m \u001b[0;34m'license'\u001b[0m\u001b[0;34m}\u001b[0m\u001b[0;34m)\u001b[0m\u001b[0;34m\u001b[0m\u001b[0;34m\u001b[0m\u001b[0m\n\u001b[0;32m--> 475\u001b[0;31m         \u001b[0margs\u001b[0m \u001b[0;34m=\u001b[0m \u001b[0mparser\u001b[0m\u001b[0;34m.\u001b[0m\u001b[0mgetopt\u001b[0m\u001b[0;34m(\u001b[0m\u001b[0margs\u001b[0m\u001b[0;34m=\u001b[0m\u001b[0mself\u001b[0m\u001b[0;34m.\u001b[0m\u001b[0mscript_args\u001b[0m\u001b[0;34m,\u001b[0m \u001b[0mobject\u001b[0m\u001b[0;34m=\u001b[0m\u001b[0mself\u001b[0m\u001b[0;34m)\u001b[0m\u001b[0;34m\u001b[0m\u001b[0;34m\u001b[0m\u001b[0m\n\u001b[0m\u001b[1;32m    476\u001b[0m         \u001b[0moption_order\u001b[0m \u001b[0;34m=\u001b[0m \u001b[0mparser\u001b[0m\u001b[0;34m.\u001b[0m\u001b[0mget_option_order\u001b[0m\u001b[0;34m(\u001b[0m\u001b[0;34m)\u001b[0m\u001b[0;34m\u001b[0m\u001b[0;34m\u001b[0m\u001b[0m\n",
      "\u001b[0;32m/usr/lib/python3.8/distutils/fancy_getopt.py\u001b[0m in \u001b[0;36mgetopt\u001b[0;34m(self, args, object)\u001b[0m\n\u001b[1;32m    234\u001b[0m         \u001b[0;32mexcept\u001b[0m \u001b[0mgetopt\u001b[0m\u001b[0;34m.\u001b[0m\u001b[0merror\u001b[0m \u001b[0;32mas\u001b[0m \u001b[0mmsg\u001b[0m\u001b[0;34m:\u001b[0m\u001b[0;34m\u001b[0m\u001b[0;34m\u001b[0m\u001b[0m\n\u001b[0;32m--> 235\u001b[0;31m             \u001b[0;32mraise\u001b[0m \u001b[0mDistutilsArgError\u001b[0m\u001b[0;34m(\u001b[0m\u001b[0mmsg\u001b[0m\u001b[0;34m)\u001b[0m\u001b[0;34m\u001b[0m\u001b[0;34m\u001b[0m\u001b[0m\n\u001b[0m\u001b[1;32m    236\u001b[0m \u001b[0;34m\u001b[0m\u001b[0m\n",
      "\u001b[0;31mDistutilsArgError\u001b[0m: option -f not recognized",
      "\nDuring handling of the above exception, another exception occurred:\n",
      "\u001b[0;31mSystemExit\u001b[0m                                Traceback (most recent call last)",
      "\u001b[0;32m/usr/lib/python3/dist-packages/IPython/core/interactiveshell.py\u001b[0m in \u001b[0;36mrun_code\u001b[0;34m(self, code_obj, result, async_)\u001b[0m\n\u001b[1;32m   3330\u001b[0m                 \u001b[0;32melse\u001b[0m\u001b[0;34m:\u001b[0m\u001b[0;34m\u001b[0m\u001b[0;34m\u001b[0m\u001b[0m\n\u001b[0;32m-> 3331\u001b[0;31m                     \u001b[0mexec\u001b[0m\u001b[0;34m(\u001b[0m\u001b[0mcode_obj\u001b[0m\u001b[0;34m,\u001b[0m \u001b[0mself\u001b[0m\u001b[0;34m.\u001b[0m\u001b[0muser_global_ns\u001b[0m\u001b[0;34m,\u001b[0m \u001b[0mself\u001b[0m\u001b[0;34m.\u001b[0m\u001b[0muser_ns\u001b[0m\u001b[0;34m)\u001b[0m\u001b[0;34m\u001b[0m\u001b[0;34m\u001b[0m\u001b[0m\n\u001b[0m\u001b[1;32m   3332\u001b[0m             \u001b[0;32mfinally\u001b[0m\u001b[0;34m:\u001b[0m\u001b[0;34m\u001b[0m\u001b[0;34m\u001b[0m\u001b[0m\n",
      "\u001b[0;32m<ipython-input-4-b52944c1640f>\u001b[0m in \u001b[0;36m<module>\u001b[0;34m\u001b[0m\n\u001b[1;32m     22\u001b[0m \u001b[0;34m\u001b[0m\u001b[0m\n\u001b[0;32m---> 23\u001b[0;31m setup(\n\u001b[0m\u001b[1;32m     24\u001b[0m     \u001b[0mpy_modules\u001b[0m \u001b[0;34m=\u001b[0m \u001b[0;34m[\u001b[0m\u001b[0;34m\"libPyMKL\"\u001b[0m\u001b[0;34m]\u001b[0m\u001b[0;34m,\u001b[0m\u001b[0;34m\u001b[0m\u001b[0;34m\u001b[0m\u001b[0m\n",
      "\u001b[0;32m~/VirtEnv/DeepLearning3/lib/python3.8/site-packages/setuptools/__init__.py\u001b[0m in \u001b[0;36msetup\u001b[0;34m(**attrs)\u001b[0m\n\u001b[1;32m    162\u001b[0m     \u001b[0m_install_setup_requires\u001b[0m\u001b[0;34m(\u001b[0m\u001b[0mattrs\u001b[0m\u001b[0;34m)\u001b[0m\u001b[0;34m\u001b[0m\u001b[0;34m\u001b[0m\u001b[0m\n\u001b[0;32m--> 163\u001b[0;31m     \u001b[0;32mreturn\u001b[0m \u001b[0mdistutils\u001b[0m\u001b[0;34m.\u001b[0m\u001b[0mcore\u001b[0m\u001b[0;34m.\u001b[0m\u001b[0msetup\u001b[0m\u001b[0;34m(\u001b[0m\u001b[0;34m**\u001b[0m\u001b[0mattrs\u001b[0m\u001b[0;34m)\u001b[0m\u001b[0;34m\u001b[0m\u001b[0;34m\u001b[0m\u001b[0m\n\u001b[0m\u001b[1;32m    164\u001b[0m \u001b[0;34m\u001b[0m\u001b[0m\n",
      "\u001b[0;32m/usr/lib/python3.8/distutils/core.py\u001b[0m in \u001b[0;36msetup\u001b[0;34m(**attrs)\u001b[0m\n\u001b[1;32m    135\u001b[0m     \u001b[0;32mexcept\u001b[0m \u001b[0mDistutilsArgError\u001b[0m \u001b[0;32mas\u001b[0m \u001b[0mmsg\u001b[0m\u001b[0;34m:\u001b[0m\u001b[0;34m\u001b[0m\u001b[0;34m\u001b[0m\u001b[0m\n\u001b[0;32m--> 136\u001b[0;31m         \u001b[0;32mraise\u001b[0m \u001b[0mSystemExit\u001b[0m\u001b[0;34m(\u001b[0m\u001b[0mgen_usage\u001b[0m\u001b[0;34m(\u001b[0m\u001b[0mdist\u001b[0m\u001b[0;34m.\u001b[0m\u001b[0mscript_name\u001b[0m\u001b[0;34m)\u001b[0m \u001b[0;34m+\u001b[0m \u001b[0;34m\"\\nerror: %s\"\u001b[0m \u001b[0;34m%\u001b[0m \u001b[0mmsg\u001b[0m\u001b[0;34m)\u001b[0m\u001b[0;34m\u001b[0m\u001b[0;34m\u001b[0m\u001b[0m\n\u001b[0m\u001b[1;32m    137\u001b[0m \u001b[0;34m\u001b[0m\u001b[0m\n",
      "\u001b[0;31mSystemExit\u001b[0m: usage: ipykernel_launcher.py [global_opts] cmd1 [cmd1_opts] [cmd2 [cmd2_opts] ...]\n   or: ipykernel_launcher.py --help [cmd1 cmd2 ...]\n   or: ipykernel_launcher.py --help-commands\n   or: ipykernel_launcher.py cmd --help\n\nerror: option -f not recognized",
      "\nDuring handling of the above exception, another exception occurred:\n",
      "\u001b[0;31mTypeError\u001b[0m                                 Traceback (most recent call last)",
      "\u001b[0;32m/usr/lib/python3/dist-packages/IPython/core/interactiveshell.py\u001b[0m in \u001b[0;36mrun_code\u001b[0;34m(self, code_obj, result, async_)\u001b[0m\n\u001b[1;32m   3336\u001b[0m             \u001b[0;32mif\u001b[0m \u001b[0mresult\u001b[0m \u001b[0;32mis\u001b[0m \u001b[0;32mnot\u001b[0m \u001b[0;32mNone\u001b[0m\u001b[0;34m:\u001b[0m\u001b[0;34m\u001b[0m\u001b[0;34m\u001b[0m\u001b[0m\n\u001b[1;32m   3337\u001b[0m                 \u001b[0mresult\u001b[0m\u001b[0;34m.\u001b[0m\u001b[0merror_in_exec\u001b[0m \u001b[0;34m=\u001b[0m \u001b[0me\u001b[0m\u001b[0;34m\u001b[0m\u001b[0;34m\u001b[0m\u001b[0m\n\u001b[0;32m-> 3338\u001b[0;31m             \u001b[0mself\u001b[0m\u001b[0;34m.\u001b[0m\u001b[0mshowtraceback\u001b[0m\u001b[0;34m(\u001b[0m\u001b[0mexception_only\u001b[0m\u001b[0;34m=\u001b[0m\u001b[0;32mTrue\u001b[0m\u001b[0;34m)\u001b[0m\u001b[0;34m\u001b[0m\u001b[0;34m\u001b[0m\u001b[0m\n\u001b[0m\u001b[1;32m   3339\u001b[0m             \u001b[0mwarn\u001b[0m\u001b[0;34m(\u001b[0m\u001b[0;34m\"To exit: use 'exit', 'quit', or Ctrl-D.\"\u001b[0m\u001b[0;34m,\u001b[0m \u001b[0mstacklevel\u001b[0m\u001b[0;34m=\u001b[0m\u001b[0;36m1\u001b[0m\u001b[0;34m)\u001b[0m\u001b[0;34m\u001b[0m\u001b[0;34m\u001b[0m\u001b[0m\n\u001b[1;32m   3340\u001b[0m         \u001b[0;32mexcept\u001b[0m \u001b[0mself\u001b[0m\u001b[0;34m.\u001b[0m\u001b[0mcustom_exceptions\u001b[0m\u001b[0;34m:\u001b[0m\u001b[0;34m\u001b[0m\u001b[0;34m\u001b[0m\u001b[0m\n",
      "\u001b[0;32m/usr/lib/python3/dist-packages/IPython/core/interactiveshell.py\u001b[0m in \u001b[0;36mshowtraceback\u001b[0;34m(self, exc_tuple, filename, tb_offset, exception_only, running_compiled_code)\u001b[0m\n\u001b[1;32m   2035\u001b[0m                     stb = ['An exception has occurred, use %tb to see '\n\u001b[1;32m   2036\u001b[0m                            'the full traceback.\\n']\n\u001b[0;32m-> 2037\u001b[0;31m                     stb.extend(self.InteractiveTB.get_exception_only(etype,\n\u001b[0m\u001b[1;32m   2038\u001b[0m                                                                      value))\n\u001b[1;32m   2039\u001b[0m                 \u001b[0;32melse\u001b[0m\u001b[0;34m:\u001b[0m\u001b[0;34m\u001b[0m\u001b[0;34m\u001b[0m\u001b[0m\n",
      "\u001b[0;32m/usr/lib/python3/dist-packages/IPython/core/ultratb.py\u001b[0m in \u001b[0;36mget_exception_only\u001b[0;34m(self, etype, value)\u001b[0m\n\u001b[1;32m    821\u001b[0m         \u001b[0mvalue\u001b[0m \u001b[0;34m:\u001b[0m \u001b[0mexception\u001b[0m \u001b[0mvalue\u001b[0m\u001b[0;34m\u001b[0m\u001b[0;34m\u001b[0m\u001b[0m\n\u001b[1;32m    822\u001b[0m         \"\"\"\n\u001b[0;32m--> 823\u001b[0;31m         \u001b[0;32mreturn\u001b[0m \u001b[0mListTB\u001b[0m\u001b[0;34m.\u001b[0m\u001b[0mstructured_traceback\u001b[0m\u001b[0;34m(\u001b[0m\u001b[0mself\u001b[0m\u001b[0;34m,\u001b[0m \u001b[0metype\u001b[0m\u001b[0;34m,\u001b[0m \u001b[0mvalue\u001b[0m\u001b[0;34m)\u001b[0m\u001b[0;34m\u001b[0m\u001b[0;34m\u001b[0m\u001b[0m\n\u001b[0m\u001b[1;32m    824\u001b[0m \u001b[0;34m\u001b[0m\u001b[0m\n\u001b[1;32m    825\u001b[0m     \u001b[0;32mdef\u001b[0m \u001b[0mshow_exception_only\u001b[0m\u001b[0;34m(\u001b[0m\u001b[0mself\u001b[0m\u001b[0;34m,\u001b[0m \u001b[0metype\u001b[0m\u001b[0;34m,\u001b[0m \u001b[0mevalue\u001b[0m\u001b[0;34m)\u001b[0m\u001b[0;34m:\u001b[0m\u001b[0;34m\u001b[0m\u001b[0;34m\u001b[0m\u001b[0m\n",
      "\u001b[0;32m/usr/lib/python3/dist-packages/IPython/core/ultratb.py\u001b[0m in \u001b[0;36mstructured_traceback\u001b[0;34m(self, etype, evalue, etb, tb_offset, context)\u001b[0m\n\u001b[1;32m    696\u001b[0m             \u001b[0mchained_exceptions_tb_offset\u001b[0m \u001b[0;34m=\u001b[0m \u001b[0;36m0\u001b[0m\u001b[0;34m\u001b[0m\u001b[0;34m\u001b[0m\u001b[0m\n\u001b[1;32m    697\u001b[0m             out_list = (\n\u001b[0;32m--> 698\u001b[0;31m                 self.structured_traceback(\n\u001b[0m\u001b[1;32m    699\u001b[0m                     \u001b[0metype\u001b[0m\u001b[0;34m,\u001b[0m \u001b[0mevalue\u001b[0m\u001b[0;34m,\u001b[0m \u001b[0;34m(\u001b[0m\u001b[0metb\u001b[0m\u001b[0;34m,\u001b[0m \u001b[0mchained_exc_ids\u001b[0m\u001b[0;34m)\u001b[0m\u001b[0;34m,\u001b[0m\u001b[0;34m\u001b[0m\u001b[0;34m\u001b[0m\u001b[0m\n\u001b[1;32m    700\u001b[0m                     chained_exceptions_tb_offset, context)\n",
      "\u001b[0;32m/usr/lib/python3/dist-packages/IPython/core/ultratb.py\u001b[0m in \u001b[0;36mstructured_traceback\u001b[0;34m(self, etype, value, tb, tb_offset, number_of_lines_of_context)\u001b[0m\n\u001b[1;32m   1412\u001b[0m         \u001b[0;32melse\u001b[0m\u001b[0;34m:\u001b[0m\u001b[0;34m\u001b[0m\u001b[0;34m\u001b[0m\u001b[0m\n\u001b[1;32m   1413\u001b[0m             \u001b[0mself\u001b[0m\u001b[0;34m.\u001b[0m\u001b[0mtb\u001b[0m \u001b[0;34m=\u001b[0m \u001b[0mtb\u001b[0m\u001b[0;34m\u001b[0m\u001b[0;34m\u001b[0m\u001b[0m\n\u001b[0;32m-> 1414\u001b[0;31m         return FormattedTB.structured_traceback(\n\u001b[0m\u001b[1;32m   1415\u001b[0m             self, etype, value, tb, tb_offset, number_of_lines_of_context)\n\u001b[1;32m   1416\u001b[0m \u001b[0;34m\u001b[0m\u001b[0m\n",
      "\u001b[0;32m/usr/lib/python3/dist-packages/IPython/core/ultratb.py\u001b[0m in \u001b[0;36mstructured_traceback\u001b[0;34m(self, etype, value, tb, tb_offset, number_of_lines_of_context)\u001b[0m\n\u001b[1;32m   1312\u001b[0m         \u001b[0;32mif\u001b[0m \u001b[0mmode\u001b[0m \u001b[0;32min\u001b[0m \u001b[0mself\u001b[0m\u001b[0;34m.\u001b[0m\u001b[0mverbose_modes\u001b[0m\u001b[0;34m:\u001b[0m\u001b[0;34m\u001b[0m\u001b[0;34m\u001b[0m\u001b[0m\n\u001b[1;32m   1313\u001b[0m             \u001b[0;31m# Verbose modes need a full traceback\u001b[0m\u001b[0;34m\u001b[0m\u001b[0;34m\u001b[0m\u001b[0;34m\u001b[0m\u001b[0m\n\u001b[0;32m-> 1314\u001b[0;31m             return VerboseTB.structured_traceback(\n\u001b[0m\u001b[1;32m   1315\u001b[0m                 \u001b[0mself\u001b[0m\u001b[0;34m,\u001b[0m \u001b[0metype\u001b[0m\u001b[0;34m,\u001b[0m \u001b[0mvalue\u001b[0m\u001b[0;34m,\u001b[0m \u001b[0mtb\u001b[0m\u001b[0;34m,\u001b[0m \u001b[0mtb_offset\u001b[0m\u001b[0;34m,\u001b[0m \u001b[0mnumber_of_lines_of_context\u001b[0m\u001b[0;34m\u001b[0m\u001b[0;34m\u001b[0m\u001b[0m\n\u001b[1;32m   1316\u001b[0m             )\n",
      "\u001b[0;32m/usr/lib/python3/dist-packages/IPython/core/ultratb.py\u001b[0m in \u001b[0;36mstructured_traceback\u001b[0;34m(self, etype, evalue, etb, tb_offset, number_of_lines_of_context)\u001b[0m\n\u001b[1;32m   1181\u001b[0m         \u001b[0mexception\u001b[0m \u001b[0;34m=\u001b[0m \u001b[0mself\u001b[0m\u001b[0;34m.\u001b[0m\u001b[0mget_parts_of_chained_exception\u001b[0m\u001b[0;34m(\u001b[0m\u001b[0mevalue\u001b[0m\u001b[0;34m)\u001b[0m\u001b[0;34m\u001b[0m\u001b[0;34m\u001b[0m\u001b[0m\n\u001b[1;32m   1182\u001b[0m         \u001b[0;32mif\u001b[0m \u001b[0mexception\u001b[0m\u001b[0;34m:\u001b[0m\u001b[0;34m\u001b[0m\u001b[0;34m\u001b[0m\u001b[0m\n\u001b[0;32m-> 1183\u001b[0;31m             \u001b[0mformatted_exceptions\u001b[0m \u001b[0;34m+=\u001b[0m \u001b[0mself\u001b[0m\u001b[0;34m.\u001b[0m\u001b[0mprepare_chained_exception_message\u001b[0m\u001b[0;34m(\u001b[0m\u001b[0mevalue\u001b[0m\u001b[0;34m.\u001b[0m\u001b[0m__cause__\u001b[0m\u001b[0;34m)\u001b[0m\u001b[0;34m\u001b[0m\u001b[0;34m\u001b[0m\u001b[0m\n\u001b[0m\u001b[1;32m   1184\u001b[0m             \u001b[0metype\u001b[0m\u001b[0;34m,\u001b[0m \u001b[0mevalue\u001b[0m\u001b[0;34m,\u001b[0m \u001b[0metb\u001b[0m \u001b[0;34m=\u001b[0m \u001b[0mexception\u001b[0m\u001b[0;34m\u001b[0m\u001b[0;34m\u001b[0m\u001b[0m\n\u001b[1;32m   1185\u001b[0m         \u001b[0;32melse\u001b[0m\u001b[0;34m:\u001b[0m\u001b[0;34m\u001b[0m\u001b[0;34m\u001b[0m\u001b[0m\n",
      "\u001b[0;31mTypeError\u001b[0m: can only concatenate str (not \"list\") to str"
     ]
    }
   ],
   "source": [
    "import codecs\n",
    "import os.path\n",
    "\n",
    "from setuptools import setup, find_packages, Extension\n",
    "from distutils.command.build_ext import build_ext as build_ext_orig\n",
    "\n",
    "#  https://stackoverflow.com/questions/4529555/building-a-ctypes-based-c-library-with-distutils\n",
    "class build_ext(build_ext_orig):\n",
    "    def build_extension(self, ext):\n",
    "        self._ctypes = isinstance(ext, Extension)\n",
    "        return super().build_extension(ext)\n",
    "\n",
    "    def get_export_symbols(self, ext):\n",
    "        if self._ctypes:\n",
    "            return ext.export_symbols\n",
    "        return super().get_export_symbols(ext)\n",
    "\n",
    "    def get_ext_filename(self, ext_name):\n",
    "        if self._ctypes:\n",
    "            return ext_name + '.so'\n",
    "        return super().get_ext_filename(ext_name)\n",
    "\n",
    "setup(\n",
    "    py_modules = [\"libPyMKL\"],\n",
    "    ext_modules=[\n",
    "        Extension(\n",
    "            \"libPyMKL\",\n",
    "            [\"lib/libPyMKL.c\",],\n",
    "        ),\n",
    "    ],\n",
    "    cmdclass={'build_ext': build_ext},\n",
    ")\n",
    "\n"
   ]
  },
  {
   "cell_type": "code",
   "execution_count": null,
   "metadata": {},
   "outputs": [],
   "source": [
    "N = K.shape[-1]\n",
    "SW_betas = zeros((self.N, self.N))\n",
    "SD_betas = zeros((self.N, self.N))\n",
    "\n",
    "for i in range(self.N):\n",
    "    for j in range(self.N):\n",
    "        Ki = self.K[:, i, :].transpose()\n",
    "        Kj = self.K[:, j, :].transpose()\n",
    "        SW_betas = SW_betas + self.sparse_W[i, j] * (Ki - Kj).dot(self.betas).dot(self.betas.transpose()).dot(\n",
    "            (Ki - Kj).transpose())\n",
    "    SD_betas = SD_betas + self.D[i, i] * reduce(dot,\n",
    "                                                [Ki, self.betas, self.betas.transpose(), Ki.transpose()])\n",
    "\n",
    "SW_betas            = SW_betas + np.triu(SW_betas,1).T\n",
    "SD_betas            = SD_betas + np.triu(SD_betas,1).T\n"
   ]
  },
  {
   "cell_type": "code",
   "execution_count": null,
   "metadata": {},
   "outputs": [],
   "source": []
  },
  {
   "cell_type": "code",
   "execution_count": null,
   "metadata": {},
   "outputs": [],
   "source": []
  },
  {
   "cell_type": "markdown",
   "metadata": {},
   "source": [
    "# Check execution on sample data"
   ]
  },
  {
   "cell_type": "code",
   "execution_count": 130,
   "metadata": {},
   "outputs": [],
   "source": [
    "from __ops import MKL\n",
    "import iotmp\n",
    "import lib\n",
    "import kernels\n",
    "import analysis\n",
    "import numpy as np\n",
    "import scipy as sp\n",
    "import scipy.io\n",
    "import tqdm\n",
    "import sak\n",
    "import matplotlib.pyplot as plt"
   ]
  },
  {
   "cell_type": "code",
   "execution_count": 3,
   "metadata": {},
   "outputs": [],
   "source": [
    "K = iotmp.read_mkl_kernels(\"/home/guille/opt/mkl-mpi-bsc/data/Kbin\")\n",
    "D = iotmp.read_mkl_binary(\"/home/guille/opt/mkl-mpi-bsc/data/Dbin\",dtype=\"float64\")\n",
    "W = iotmp.read_mkl_binary(\"/home/guille/opt/mkl-mpi-bsc/data/Wbin\",dtype=\"float32\")"
   ]
  },
  {
   "cell_type": "code",
   "execution_count": 60,
   "metadata": {},
   "outputs": [
    {
     "name": "stderr",
     "output_type": "stream",
     "text": [
      "Iteration   6/ 25, Energy   0.024973 (< tolerance   0.029440; BREAK!):  20%|██        | 5/25 [00:38<02:33,  7.69s/it]\n"
     ]
    },
    {
     "data": {
      "text/plain": [
       "<matplotlib.collections.PathCollection at 0x7f688761d160>"
      ]
     },
     "execution_count": 60,
     "metadata": {},
     "output_type": "execute_result"
    },
    {
     "data": {
      "image/png": "[encoded data removed]",
      "text/plain": [
       "<Figure size 432x288 with 1 Axes>"
      ]
     },
     "metadata": {
      "needs_background": "light"
     },
     "output_type": "display_data"
    }
   ],
   "source": [
    "self_smcp = MKL(K,W,D,solver=\"smcp\")\n",
    "\n",
    "F_data_smcp = self_smcp.fit_transform()\n",
    "\n",
    "plt.scatter(F_data_smcp[:,2],F_data_smcp[:,0])"
   ]
  },
  {
   "cell_type": "code",
   "execution_count": 63,
   "metadata": {},
   "outputs": [],
   "source": [
    "# Linear combination of Kernels\n",
    "Kernel = np.zeros(self_smcp.K.shape[1:]);\n",
    "for i,(k,b) in enumerate(zip(self_smcp.K,self_smcp.betas)):\n",
    "    Kernel += k*b\n",
    "\n",
    "# Data projection into output space\n",
    "if max(self_smcp.A.shape) > 1000:\n",
    "    embedding = np.zeros_like(self_smcp.A)\n",
    "    for i,k in enumerate(Kernel):\n",
    "        embedding[i,] = k @ self_smcp.A\n",
    "else:\n",
    "    embedding = Kernel @ self_smcp.A\n",
    "F_data_smcp = embedding.copy()"
   ]
  },
  {
   "cell_type": "code",
   "execution_count": null,
   "metadata": {},
   "outputs": [],
   "source": []
  },
  {
   "cell_type": "code",
   "execution_count": 61,
   "metadata": {},
   "outputs": [
    {
     "name": "stderr",
     "output_type": "stream",
     "text": [
      "Iteration  25/ 25, Energy   0.627276 (> tolerance   0.021070): 100%|██████████| 25/25 [00:05<00:00,  4.22it/s]"
     ]
    },
    {
     "name": "stdout",
     "output_type": "stream",
     "text": [
      "Converged!\n"
     ]
    },
    {
     "name": "stderr",
     "output_type": "stream",
     "text": [
      "\n"
     ]
    },
    {
     "data": {
      "text/plain": [
       "<matplotlib.collections.PathCollection at 0x7f6885951970>"
      ]
     },
     "execution_count": 61,
     "metadata": {},
     "output_type": "execute_result"
    },
    {
     "data": {
      "image/png": "[encoded data removed]",
      "text/plain": [
       "<Figure size 432x288 with 1 Axes>"
      ]
     },
     "metadata": {
      "needs_background": "light"
     },
     "output_type": "display_data"
    }
   ],
   "source": [
    "self_cvxopt = MKL(K,W,D,solver=\"cvxopt\",maxiter=25,eps=1e-14)\n",
    "\n",
    "F_data_cvxopt = self_cvxopt.fit_transform()\n",
    "\n",
    "plt.scatter(F_data_cvxopt[:,2],F_data_cvxopt[:,0])"
   ]
  },
  {
   "cell_type": "code",
   "execution_count": 64,
   "metadata": {},
   "outputs": [],
   "source": [
    "# Linear combination of Kernels\n",
    "Kernel = np.zeros(self_cvxopt.K.shape[1:]);\n",
    "for i,(k,b) in enumerate(zip(self_cvxopt.K,self_cvxopt.betas)):\n",
    "    Kernel += k*b\n",
    "\n",
    "# Data projection into output space\n",
    "if max(self_cvxopt.A.shape) > 1000:\n",
    "    embedding = np.zeros_like(self_cvxopt.A)\n",
    "    for i,k in enumerate(Kernel):\n",
    "        embedding[i,] = k @ self_cvxopt.A\n",
    "else:\n",
    "    embedding = Kernel @ self_cvxopt.A\n",
    "F_data_cvxopt = embedding.copy()"
   ]
  },
  {
   "cell_type": "code",
   "execution_count": null,
   "metadata": {},
   "outputs": [],
   "source": []
  },
  {
   "cell_type": "code",
   "execution_count": 52,
   "metadata": {},
   "outputs": [],
   "source": [
    "A = iotmp.read_mkl_binary(\"/home/guille/opt/mkl-mpi-bsc/build/outputs/monitor/A\",dtype=\"float64\")\n",
    "betas = iotmp.read_mkl_binary(\"/home/guille/opt/mkl-mpi-bsc/build/outputs/monitor/betas\",dtype=\"float64\")\n",
    "\n",
    "# Linear combination of Kernels\n",
    "Kernel = np.zeros(K.shape[1:]);\n",
    "for i,(k,b) in enumerate(zip(K,betas)):\n",
    "    Kernel += k*b\n",
    "\n",
    "# Data projection into output space\n",
    "if max(A.shape) > 1000:\n",
    "    embedding = np.zeros_like(A)\n",
    "    for i,k in enumerate(Kernel):\n",
    "        embedding[i,] = k @ A\n",
    "else:\n",
    "    embedding = Kernel @ A\n",
    "F_data_cpp = embedding.copy()"
   ]
  },
  {
   "cell_type": "code",
   "execution_count": null,
   "metadata": {},
   "outputs": [],
   "source": []
  },
  {
   "cell_type": "code",
   "execution_count": 100,
   "metadata": {},
   "outputs": [],
   "source": [
    "outputs_matlab = sp.io.loadmat(\"/home/guille/GitHub/SoO/Tools/UnsupervisedMKL/output.mat\")\n",
    "A_matlab = outputs_matlab[\"A\"].astype(float)\n",
    "betas_matlab = outputs_matlab[\"betas\"].astype(float)\n",
    "\n",
    "# Linear combination of Kernels\n",
    "Kernel = np.zeros(K.shape[1:]);\n",
    "for i,(k,b) in enumerate(zip(K,betas_matlab)):\n",
    "    Kernel += k*b\n",
    "\n",
    "# Data projection into output space\n",
    "if max(A.shape) > 1000:\n",
    "    embedding = np.zeros_like(A_matlab)\n",
    "    for i,k in enumerate(Kernel):\n",
    "        embedding[i,] = k @ A_matlab\n",
    "else:\n",
    "    embedding = Kernel @ A_matlab\n",
    "F_data_matlab = -embedding.copy()"
   ]
  },
  {
   "cell_type": "code",
   "execution_count": 140,
   "metadata": {},
   "outputs": [],
   "source": [
    "# Correct signs (!!!!!!!!!!!!!!!)\n",
    "F_data_matlab *= np.round(np.array(sak.signal.xcorr(F_data_matlab,F_data_smcp,maxlags=0))[:,0,0])\n",
    "F_data_cvxopt *= np.round(np.array(sak.signal.xcorr(F_data_cvxopt,F_data_smcp,maxlags=0))[:,0,0])"
   ]
  },
  {
   "cell_type": "code",
   "execution_count": 181,
   "metadata": {},
   "outputs": [
    {
     "data": {
      "text/plain": [
       "<matplotlib.collections.PathCollection at 0x7f6857de3eb0>"
      ]
     },
     "execution_count": 181,
     "metadata": {},
     "output_type": "execute_result"
    },
    {
     "data": {
      "image/png": "[encoded data removed]",
      "text/plain": [
       "<Figure size 432x288 with 1 Axes>"
      ]
     },
     "metadata": {
      "needs_background": "light"
     },
     "output_type": "display_data"
    }
   ],
   "source": [
    "i,j = 77,0\n",
    "plt.scatter(F_data_matlab[:,i],F_data_matlab[:,j])\n",
    "plt.scatter(F_data_smcp[:,i],F_data_smcp[:,j])\n",
    "plt.scatter(F_data_cvxopt[:,i],F_data_cvxopt[:,j])\n",
    "\n",
    "plt.scatter(F_data_cpp[:,i],F_data_cpp[:,j])\n"
   ]
  },
  {
   "cell_type": "code",
   "execution_count": null,
   "metadata": {},
   "outputs": [],
   "source": []
  },
  {
   "cell_type": "code",
   "execution_count": null,
   "metadata": {},
   "outputs": [],
   "source": []
  },
  {
   "cell_type": "code",
   "execution_count": null,
   "metadata": {},
   "outputs": [],
   "source": []
  },
  {
   "cell_type": "code",
   "execution_count": null,
   "metadata": {},
   "outputs": [],
   "source": []
  },
  {
   "cell_type": "code",
   "execution_count": null,
   "metadata": {},
   "outputs": [],
   "source": []
  },
  {
   "cell_type": "code",
   "execution_count": null,
   "metadata": {},
   "outputs": [],
   "source": []
  },
  {
   "cell_type": "code",
   "execution_count": null,
   "metadata": {},
   "outputs": [],
   "source": []
  },
  {
   "cell_type": "code",
   "execution_count": null,
   "metadata": {},
   "outputs": [],
   "source": []
  },
  {
   "cell_type": "markdown",
   "metadata": {},
   "source": [
    "# [2021/02/19] TRY OUT CVXPYLAYERS"
   ]
  },
  {
   "cell_type": "code",
   "execution_count": 3,
   "metadata": {},
   "outputs": [
    {
     "name": "stdout",
     "output_type": "stream",
     "text": [
      "The autoreload extension is already loaded. To reload it, use:\n",
      "  %reload_ext autoreload\n"
     ]
    }
   ],
   "source": [
    "%load_ext autoreload\n",
    "%autoreload 2\n",
    "\n",
    "import numpy as np\n",
    "import numpy\n",
    "import scipy as sp\n",
    "import scipy\n",
    "import matplotlib.pyplot as plt\n",
    "import scipy.io\n",
    "# import MultipleKernelLearning"
   ]
  },
  {
   "cell_type": "code",
   "execution_count": null,
   "metadata": {},
   "outputs": [],
   "source": []
  },
  {
   "cell_type": "code",
   "execution_count": null,
   "metadata": {},
   "outputs": [],
   "source": []
  },
  {
   "cell_type": "code",
   "execution_count": null,
   "metadata": {},
   "outputs": [],
   "source": []
  },
  {
   "cell_type": "markdown",
   "metadata": {},
   "source": [
    "# NUMBER OF FEATURES FOR PARALLELIZATION OF SWA"
   ]
  },
  {
   "cell_type": "code",
   "execution_count": null,
   "metadata": {},
   "outputs": [],
   "source": []
  },
  {
   "cell_type": "code",
   "execution_count": null,
   "metadata": {},
   "outputs": [],
   "source": []
  },
  {
   "cell_type": "code",
   "execution_count": null,
   "metadata": {},
   "outputs": [],
   "source": []
  },
  {
   "cell_type": "code",
   "execution_count": null,
   "metadata": {},
   "outputs": [],
   "source": []
  },
  {
   "cell_type": "markdown",
   "metadata": {},
   "source": [
    "# CHECKING EVERYTHING AGAIN"
   ]
  },
  {
   "cell_type": "code",
   "execution_count": 1,
   "metadata": {},
   "outputs": [
    {
     "ename": "OSError",
     "evalue": "no file with expected extension",
     "output_type": "error",
     "traceback": [
      "\u001b[0;31m---------------------------------------------------------------------------\u001b[0m",
      "\u001b[0;31mOSError\u001b[0m                                   Traceback (most recent call last)",
      "\u001b[0;32m<ipython-input-1-d4a8fb228788>\u001b[0m in \u001b[0;36m<module>\u001b[0;34m\u001b[0m\n\u001b[1;32m      8\u001b[0m \u001b[0;32mimport\u001b[0m \u001b[0mmatplotlib\u001b[0m\u001b[0;34m.\u001b[0m\u001b[0mpyplot\u001b[0m \u001b[0;32mas\u001b[0m \u001b[0mplt\u001b[0m\u001b[0;34m\u001b[0m\u001b[0;34m\u001b[0m\u001b[0m\n\u001b[1;32m      9\u001b[0m \u001b[0;32mimport\u001b[0m \u001b[0mscipy\u001b[0m\u001b[0;34m.\u001b[0m\u001b[0mio\u001b[0m\u001b[0;34m\u001b[0m\u001b[0;34m\u001b[0m\u001b[0m\n\u001b[0;32m---> 10\u001b[0;31m \u001b[0;32mimport\u001b[0m \u001b[0mMultipleKernelLearning\u001b[0m\u001b[0;34m\u001b[0m\u001b[0;34m\u001b[0m\u001b[0m\n\u001b[0m",
      "\u001b[0;32m~/GitHub/UnsupervisedMKL/UnsupervisedMKL/MultipleKernelLearning.py\u001b[0m in \u001b[0;36m<module>\u001b[0;34m\u001b[0m\n\u001b[1;32m     21\u001b[0m \u001b[0;32mfrom\u001b[0m \u001b[0mcvxopt\u001b[0m \u001b[0;32mimport\u001b[0m \u001b[0mmatrix\u001b[0m\u001b[0;34m\u001b[0m\u001b[0;34m\u001b[0m\u001b[0m\n\u001b[1;32m     22\u001b[0m \u001b[0;32mfrom\u001b[0m \u001b[0mconsole\u001b[0m \u001b[0;32mimport\u001b[0m \u001b[0mprint_progress\u001b[0m\u001b[0;34m\u001b[0m\u001b[0;34m\u001b[0m\u001b[0m\n\u001b[0;32m---> 23\u001b[0;31m \u001b[0;32mfrom\u001b[0m \u001b[0mcompute\u001b[0m \u001b[0;32mimport\u001b[0m \u001b[0mcomputeSWA\u001b[0m\u001b[0;34m\u001b[0m\u001b[0;34m\u001b[0m\u001b[0m\n\u001b[0m\u001b[1;32m     24\u001b[0m \u001b[0;32mfrom\u001b[0m \u001b[0mcompute\u001b[0m \u001b[0;32mimport\u001b[0m \u001b[0mcomputeSWB\u001b[0m\u001b[0;34m\u001b[0m\u001b[0;34m\u001b[0m\u001b[0m\n\u001b[1;32m     25\u001b[0m \u001b[0;32mfrom\u001b[0m \u001b[0mcompute\u001b[0m \u001b[0;32mimport\u001b[0m \u001b[0mcomputeENERGY\u001b[0m\u001b[0;34m\u001b[0m\u001b[0;34m\u001b[0m\u001b[0m\n",
      "\u001b[0;32m~/GitHub/UnsupervisedMKL/UnsupervisedMKL/compute.py\u001b[0m in \u001b[0;36m<module>\u001b[0;34m\u001b[0m\n\u001b[1;32m     25\u001b[0m \u001b[0;31m# Why the underscore (_) in front of _libcomputeUMKL below?\u001b[0m\u001b[0;34m\u001b[0m\u001b[0;34m\u001b[0m\u001b[0;34m\u001b[0m\u001b[0m\n\u001b[1;32m     26\u001b[0m \u001b[0;31m# To mimimise namespace pollution -- see PEP 8 (www.python.org).\u001b[0m\u001b[0;34m\u001b[0m\u001b[0;34m\u001b[0m\u001b[0;34m\u001b[0m\u001b[0m\n\u001b[0;32m---> 27\u001b[0;31m \u001b[0m_libcomputeUMKL\u001b[0m                         \u001b[0;34m=\u001b[0m \u001b[0mload_library\u001b[0m\u001b[0;34m(\u001b[0m\u001b[0mjoin\u001b[0m\u001b[0;34m(\u001b[0m\u001b[0mdirname\u001b[0m\u001b[0;34m(\u001b[0m\u001b[0m__file__\u001b[0m\u001b[0;34m)\u001b[0m\u001b[0;34m,\u001b[0m\u001b[0;34m'lib'\u001b[0m\u001b[0;34m,\u001b[0m\u001b[0;34m'libcomputeUMKL.so'\u001b[0m\u001b[0;34m)\u001b[0m\u001b[0;34m,\u001b[0m \u001b[0;34m'.'\u001b[0m\u001b[0;34m)\u001b[0m\u001b[0;34m\u001b[0m\u001b[0;34m\u001b[0m\u001b[0m\n\u001b[0m\u001b[1;32m     28\u001b[0m \u001b[0;34m\u001b[0m\u001b[0m\n\u001b[1;32m     29\u001b[0m \u001b[0;31m# COMPUTE ENERGY\u001b[0m\u001b[0;34m\u001b[0m\u001b[0;34m\u001b[0m\u001b[0;34m\u001b[0m\u001b[0m\n",
      "\u001b[0;32m~/VirtEnv/DeepLearning3/lib/python3.8/site-packages/numpy/ctypeslib.py\u001b[0m in \u001b[0;36mload_library\u001b[0;34m(libname, loader_path)\u001b[0m\n\u001b[1;32m    152\u001b[0m                     \u001b[0;32mraise\u001b[0m\u001b[0;34m\u001b[0m\u001b[0;34m\u001b[0m\u001b[0m\n\u001b[1;32m    153\u001b[0m         \u001b[0;31m## if no successful return in the libname_ext loop:\u001b[0m\u001b[0;34m\u001b[0m\u001b[0;34m\u001b[0m\u001b[0;34m\u001b[0m\u001b[0m\n\u001b[0;32m--> 154\u001b[0;31m         \u001b[0;32mraise\u001b[0m \u001b[0mOSError\u001b[0m\u001b[0;34m(\u001b[0m\u001b[0;34m\"no file with expected extension\"\u001b[0m\u001b[0;34m)\u001b[0m\u001b[0;34m\u001b[0m\u001b[0;34m\u001b[0m\u001b[0m\n\u001b[0m\u001b[1;32m    155\u001b[0m \u001b[0;34m\u001b[0m\u001b[0m\n\u001b[1;32m    156\u001b[0m \u001b[0;34m\u001b[0m\u001b[0m\n",
      "\u001b[0;31mOSError\u001b[0m: no file with expected extension"
     ]
    }
   ],
   "source": [
    "%load_ext autoreload\n",
    "%autoreload 2\n",
    "\n",
    "import numpy as np\n",
    "import numpy\n",
    "import scipy as sp\n",
    "import scipy\n",
    "import matplotlib.pyplot as plt\n",
    "import scipy.io\n",
    "import MultipleKernelLearning"
   ]
  },
  {
   "cell_type": "code",
   "execution_count": 9,
   "metadata": {},
   "outputs": [],
   "source": [
    "loadData = scipy.io.loadmat('CONVERGENCE_ALL')\n",
    "\n",
    "N = 1\n",
    "\n",
    "InterpolatedBeats = loadData['InterpolatedBeats'][::N,:,:]\n",
    "InterpolatedWvlts = loadData['InterpolatedWvlts'][::N,:,:,:]\n",
    "FFT               = loadData['FFT'][::N,:,:]\n",
    "\n",
    "del(loadData)"
   ]
  },
  {
   "cell_type": "code",
   "execution_count": 13,
   "metadata": {},
   "outputs": [],
   "source": [
    "X = [FFT[:,0,:], \n",
    "     FFT[:,1,:], \n",
    "     FFT[:,2,:], \n",
    "     FFT[:,3,:], \n",
    "     FFT[:,4,:], \n",
    "     FFT[:,5,:], \n",
    "     FFT[:,6,:], \n",
    "     FFT[:,7,:],\n",
    "     FFT[:,8,:], \n",
    "     FFT[:,9,:], \n",
    "     FFT[:,10,:], \n",
    "     FFT[:,11,:]]\n",
    "\n",
    "# X = [InterpolatedBeats[:,0,:], \n",
    "#      InterpolatedBeats[:,1,:], \n",
    "#      InterpolatedBeats[:,2,:], \n",
    "#      InterpolatedBeats[:,3,:], \n",
    "#      InterpolatedBeats[:,4,:], \n",
    "#      InterpolatedBeats[:,5,:], \n",
    "#      InterpolatedBeats[:,6,:], \n",
    "#      InterpolatedBeats[:,7,:],\n",
    "#      InterpolatedBeats[:,8,:], \n",
    "#      InterpolatedBeats[:,9,:], \n",
    "#      InterpolatedBeats[:,10,:], \n",
    "#      InterpolatedBeats[:,11,:]]\n",
    "\n",
    "\n",
    "\n",
    "# X = [InterpolatedBeats[:,0,:], \n",
    "#      InterpolatedBeats[:,1,:], \n",
    "#      InterpolatedBeats[:,2,:], \n",
    "#      InterpolatedBeats[:,3,:], \n",
    "#      InterpolatedBeats[:,4,:], \n",
    "#      InterpolatedBeats[:,5,:], \n",
    "#      InterpolatedBeats[:,6,:], \n",
    "#      InterpolatedBeats[:,7,:],\n",
    "#      InterpolatedBeats[:,8,:], \n",
    "#      InterpolatedBeats[:,9,:], \n",
    "#      InterpolatedBeats[:,10,:], \n",
    "#      InterpolatedBeats[:,11,:],\n",
    "#      InterpolatedWvlts[:,0,0,:], \n",
    "#      InterpolatedWvlts[:,1,0,:], \n",
    "#      InterpolatedWvlts[:,2,0,:], \n",
    "#      InterpolatedWvlts[:,3,0,:], \n",
    "#      InterpolatedWvlts[:,4,0,:], \n",
    "#      InterpolatedWvlts[:,5,0,:], \n",
    "#      InterpolatedWvlts[:,6,0,:], \n",
    "#      InterpolatedWvlts[:,7,0,:],\n",
    "#      InterpolatedWvlts[:,8,0,:], \n",
    "#      InterpolatedWvlts[:,9,0,:], \n",
    "#      InterpolatedWvlts[:,10,0,:], \n",
    "#      InterpolatedWvlts[:,11,0,:],\n",
    "# #      InterpolatedWvlts[:,0,1,:], \n",
    "# #      InterpolatedWvlts[:,1,1,:], \n",
    "# #      InterpolatedWvlts[:,2,1,:], \n",
    "# #      InterpolatedWvlts[:,3,1,:], \n",
    "# #      InterpolatedWvlts[:,4,1,:], \n",
    "# #      InterpolatedWvlts[:,5,1,:], \n",
    "# #      InterpolatedWvlts[:,6,1,:], \n",
    "# #      InterpolatedWvlts[:,7,1,:],\n",
    "# #      InterpolatedWvlts[:,8,1,:], \n",
    "# #      InterpolatedWvlts[:,9,1,:], \n",
    "# #      InterpolatedWvlts[:,10,1,:], \n",
    "# #      InterpolatedWvlts[:,11,1,:],\n",
    "#      InterpolatedWvlts[:,0,2,:], \n",
    "#      InterpolatedWvlts[:,1,2,:], \n",
    "#      InterpolatedWvlts[:,2,2,:], \n",
    "#      InterpolatedWvlts[:,3,2,:], \n",
    "#      InterpolatedWvlts[:,4,2,:], \n",
    "#      InterpolatedWvlts[:,5,2,:], \n",
    "#      InterpolatedWvlts[:,6,2,:], \n",
    "#      InterpolatedWvlts[:,7,2,:],\n",
    "#      InterpolatedWvlts[:,8,2,:], \n",
    "#      InterpolatedWvlts[:,9,2,:], \n",
    "#      InterpolatedWvlts[:,10,2,:], \n",
    "#      InterpolatedWvlts[:,11,2,:],\n",
    "#      InterpolatedWvlts[:,0,3,:], \n",
    "#      InterpolatedWvlts[:,1,3,:], \n",
    "#      InterpolatedWvlts[:,2,3,:], \n",
    "#      InterpolatedWvlts[:,3,3,:], \n",
    "#      InterpolatedWvlts[:,4,3,:], \n",
    "#      InterpolatedWvlts[:,5,3,:], \n",
    "#      InterpolatedWvlts[:,6,3,:], \n",
    "#      InterpolatedWvlts[:,7,3,:],\n",
    "#      InterpolatedWvlts[:,8,3,:], \n",
    "#      InterpolatedWvlts[:,9,3,:], \n",
    "#      InterpolatedWvlts[:,10,3,:], \n",
    "#      InterpolatedWvlts[:,11,3,:],\n",
    "# #      InterpolatedWvlts[:,0,4,:], \n",
    "# #      InterpolatedWvlts[:,1,4,:], \n",
    "# #      InterpolatedWvlts[:,2,4,:], \n",
    "# #      InterpolatedWvlts[:,3,4,:], \n",
    "# #      InterpolatedWvlts[:,4,4,:], \n",
    "# #      InterpolatedWvlts[:,5,4,:], \n",
    "# #      InterpolatedWvlts[:,6,4,:], \n",
    "# #      InterpolatedWvlts[:,7,4,:],\n",
    "# #      InterpolatedWvlts[:,8,4,:], \n",
    "# #      InterpolatedWvlts[:,9,4,:], \n",
    "# #      InterpolatedWvlts[:,10,4,:], \n",
    "# #      InterpolatedWvlts[:,11,4,:]]\n",
    "#      FFT[:,0,:],\n",
    "#      FFT[:,1,:],\n",
    "#      FFT[:,2,:],\n",
    "#      FFT[:,3,:],\n",
    "#      FFT[:,4,:],\n",
    "#      FFT[:,5,:],\n",
    "#      FFT[:,6,:],\n",
    "#      FFT[:,7,:],\n",
    "#      FFT[:,8,:],\n",
    "#      FFT[:,9,:],\n",
    "#      FFT[:,10,:], \n",
    "#      FFT[:,11,:]]"
   ]
  },
  {
   "cell_type": "code",
   "execution_count": 14,
   "metadata": {},
   "outputs": [
    {
     "data": {
      "text/plain": [
       "12"
      ]
     },
     "execution_count": 14,
     "metadata": {},
     "output_type": "execute_result"
    }
   ],
   "source": [
    "len(X)"
   ]
  },
  {
   "cell_type": "code",
   "execution_count": 15,
   "metadata": {},
   "outputs": [],
   "source": [
    "u = MultipleKernelLearning.UnsupervisedMKL(X,maxiter=1,verbose=True)"
   ]
  },
  {
   "cell_type": "code",
   "execution_count": 18,
   "metadata": {
    "scrolled": true
   },
   "outputs": [
    {
     "name": "stdout",
     "output_type": "stream",
     "text": [
      " * Iteration 1:\n",
      " ├-> 1. Compute SWB: parallelization with 8 threads\n",
      " ├-> 2. Compute SWA: parallelization with 8 threads\n",
      " ├-> 3. Convex optimization\n",
      " └-> 4. Compute Energy: parallelization with 8 threads\n",
      "     └-> Iteration time:         63.16 s\n",
      "\n",
      " * Reached maximum number of iterations\n",
      "\n"
     ]
    }
   ],
   "source": [
    "u.fit()"
   ]
  },
  {
   "cell_type": "code",
   "execution_count": null,
   "metadata": {},
   "outputs": [],
   "source": [
    "import matplotlib.pyplot as plt\n",
    "\n",
    "plt.plot(u.gap)"
   ]
  },
  {
   "cell_type": "code",
   "execution_count": null,
   "metadata": {},
   "outputs": [],
   "source": []
  },
  {
   "cell_type": "code",
   "execution_count": null,
   "metadata": {},
   "outputs": [],
   "source": []
  },
  {
   "cell_type": "code",
   "execution_count": null,
   "metadata": {},
   "outputs": [],
   "source": []
  },
  {
   "cell_type": "code",
   "execution_count": null,
   "metadata": {},
   "outputs": [],
   "source": []
  },
  {
   "cell_type": "code",
   "execution_count": null,
   "metadata": {},
   "outputs": [],
   "source": []
  },
  {
   "cell_type": "code",
   "execution_count": 15,
   "metadata": {},
   "outputs": [],
   "source": [
    "import cvxpy as cp\n",
    "\n",
    "Bvar = cp.Variable(u.M, u.M)\n",
    "betavar = cp.Variable(u.M, 1)\n",
    "\n",
    "objective = cp.Minimize(cp.trace(u.SW_A * Bvar))\n",
    "constraints = [cp.trace(u.SD_A * Bvar) == 1, betavar >= 0]\n",
    "\n",
    "hb1 = cp.hstack(np.asarray([1]), betavar.T)\n",
    "hb2 = cp.hstack(betavar, Bvar)\n",
    "P = cp.vstack(hb1, hb2)\n",
    "constraints.append(P == cp.Semidef(u.M + 1))\n",
    "\n",
    "p = cp.Problem(objective, constraints)\n",
    "# p.solve(solver=cp.CVXOPT,verbose=False)"
   ]
  },
  {
   "cell_type": "code",
   "execution_count": 16,
   "metadata": {},
   "outputs": [
    {
     "data": {
      "text/plain": [
       "{'A': <626x925 sparse matrix, tc='d', nnz=1825>,\n",
       " 'F': <function cvxpy.problems.problem_data.matrix_data.F>,\n",
       " 'G': <649x925 sparse matrix, tc='d', nnz=649>,\n",
       " 'b': <626x1 matrix, tc='d'>,\n",
       " 'bool_vars_idx': [],\n",
       " 'c': <925x1 matrix, tc='d'>,\n",
       " 'dims': {'ep': 0, 'f': 626, 'l': 24, 'q': [], 's': [25]},\n",
       " 'h': <649x1 matrix, tc='d'>,\n",
       " 'int_vars_idx': [],\n",
       " 'offset': 0.0}"
      ]
     },
     "execution_count": 16,
     "metadata": {},
     "output_type": "execute_result"
    }
   ],
   "source": [
    "p.get_problem_data(cp.CVXOPT)"
   ]
  },
  {
   "cell_type": "code",
   "execution_count": 4,
   "metadata": {},
   "outputs": [],
   "source": [
    "import picos as pic\n",
    "import cvxopt as cvx"
   ]
  },
  {
   "cell_type": "code",
   "execution_count": null,
   "metadata": {},
   "outputs": [],
   "source": [
    "import s"
   ]
  },
  {
   "cell_type": "code",
   "execution_count": 5,
   "metadata": {},
   "outputs": [
    {
     "ename": "NameError",
     "evalue": "name 'sdp' is not defined",
     "output_type": "error",
     "traceback": [
      "\u001b[0;31m---------------------------------------------------------------------------\u001b[0m",
      "\u001b[0;31mNameError\u001b[0m                                 Traceback (most recent call last)",
      "\u001b[0;32m<ipython-input-5-ad91dbb8bfba>\u001b[0m in \u001b[0;36m<module>\u001b[0;34m()\u001b[0m\n\u001b[0;32m----> 1\u001b[0;31m \u001b[0;32mprint\u001b[0m\u001b[0;34m(\u001b[0m\u001b[0msdp\u001b[0m\u001b[0;34m)\u001b[0m\u001b[0;34m\u001b[0m\u001b[0m\n\u001b[0m",
      "\u001b[0;31mNameError\u001b[0m: name 'sdp' is not defined"
     ]
    }
   ],
   "source": [
    "print(sdp)"
   ]
  },
  {
   "cell_type": "code",
   "execution_count": 6,
   "metadata": {},
   "outputs": [
    {
     "ename": "NameError",
     "evalue": "name 'u' is not defined",
     "output_type": "error",
     "traceback": [
      "\u001b[0;31m---------------------------------------------------------------------------\u001b[0m",
      "\u001b[0;31mNameError\u001b[0m                                 Traceback (most recent call last)",
      "\u001b[0;32m<ipython-input-6-5b3adbdcdca8>\u001b[0m in \u001b[0;36m<module>\u001b[0;34m()\u001b[0m\n\u001b[1;32m      1\u001b[0m \u001b[0;32mimport\u001b[0m \u001b[0mcvxpy\u001b[0m \u001b[0;32mas\u001b[0m \u001b[0mcp\u001b[0m\u001b[0;34m\u001b[0m\u001b[0m\n\u001b[1;32m      2\u001b[0m \u001b[0;34m\u001b[0m\u001b[0m\n\u001b[0;32m----> 3\u001b[0;31m \u001b[0mBvar\u001b[0m                \u001b[0;34m=\u001b[0m \u001b[0mcp\u001b[0m\u001b[0;34m.\u001b[0m\u001b[0mVariable\u001b[0m\u001b[0;34m(\u001b[0m\u001b[0;34m(\u001b[0m\u001b[0mu\u001b[0m\u001b[0;34m.\u001b[0m\u001b[0mM\u001b[0m\u001b[0;34m,\u001b[0m \u001b[0mu\u001b[0m\u001b[0;34m.\u001b[0m\u001b[0mM\u001b[0m\u001b[0;34m)\u001b[0m\u001b[0;34m,\u001b[0m \u001b[0msymmetric\u001b[0m\u001b[0;34m=\u001b[0m\u001b[0mTrue\u001b[0m\u001b[0;34m)\u001b[0m\u001b[0;34m\u001b[0m\u001b[0m\n\u001b[0m\u001b[1;32m      4\u001b[0m \u001b[0mbetavar\u001b[0m             \u001b[0;34m=\u001b[0m \u001b[0mcp\u001b[0m\u001b[0;34m.\u001b[0m\u001b[0mVariable\u001b[0m\u001b[0;34m(\u001b[0m\u001b[0;34m(\u001b[0m\u001b[0mu\u001b[0m\u001b[0;34m.\u001b[0m\u001b[0mM\u001b[0m\u001b[0;34m,\u001b[0m \u001b[0;36m1\u001b[0m\u001b[0;34m)\u001b[0m\u001b[0;34m)\u001b[0m\u001b[0;34m\u001b[0m\u001b[0m\n\u001b[1;32m      5\u001b[0m \u001b[0mobjective\u001b[0m           \u001b[0;34m=\u001b[0m \u001b[0mcp\u001b[0m\u001b[0;34m.\u001b[0m\u001b[0mMinimize\u001b[0m\u001b[0;34m(\u001b[0m\u001b[0mcp\u001b[0m\u001b[0;34m.\u001b[0m\u001b[0mtrace\u001b[0m\u001b[0;34m(\u001b[0m\u001b[0mu\u001b[0m\u001b[0;34m.\u001b[0m\u001b[0mSW_A\u001b[0m \u001b[0;34m*\u001b[0m \u001b[0mBvar\u001b[0m\u001b[0;34m)\u001b[0m\u001b[0;34m)\u001b[0m\u001b[0;34m\u001b[0m\u001b[0m\n",
      "\u001b[0;31mNameError\u001b[0m: name 'u' is not defined"
     ]
    }
   ],
   "source": [
    "import cvxpy as cp \n",
    "\n",
    "Bvar                = cp.Variable((u.M, u.M), symmetric=True)\n",
    "betavar             = cp.Variable((u.M, 1))\n",
    "objective           = cp.Minimize(cp.trace(u.SW_A * Bvar))\n",
    "constraints         = [cp.trace(u.SD_A * Bvar) == 1, betavar >= 0]\n",
    "\n",
    "hb1                 = cp.hstack([np.ones((1,1)), betavar.T])\n",
    "hb2                 = cp.hstack([betavar, Bvar])\n",
    "P                   = cp.vstack([hb1, hb2])\n",
    "constraints.append(P == cp.Variable((u.M + 1,u.M + 1), PSD=True))\n",
    "\n",
    "p                   = cp.Problem(objective, constraints)\n",
    "\n",
    "# p.solve(solver=cp.,verbose=False)\n"
   ]
  },
  {
   "cell_type": "code",
   "execution_count": null,
   "metadata": {},
   "outputs": [],
   "source": [
    "from distutils.version import LooseVersion\n",
    "LooseVersion(cp.__version__) < LooseVersion(\"0\")"
   ]
  },
  {
   "cell_type": "code",
   "execution_count": null,
   "metadata": {},
   "outputs": [],
   "source": [
    "import sdpt3glue\n",
    "import os.path\n",
    "\n",
    "\n",
    "\n",
    "matfile_target = os.path.join(os.path.realpath('.'), 'matfile.mat')  # Where to save the .mat file to\n",
    "output_target = os.path.join(os.path.realpath('.'), 'output.txt')    # Where to save the output log\n",
    "\n",
    "sdpt3glue.sedumi_writer.write_cvxpy_to_mat(p.get_problem_data(cp.CVXOPT),matfile_target)"
   ]
  },
  {
   "cell_type": "code",
   "execution_count": null,
   "metadata": {},
   "outputs": [],
   "source": [
    "PD = p.get_problem_data(cp.MOSEK)"
   ]
  },
  {
   "cell_type": "code",
   "execution_count": null,
   "metadata": {},
   "outputs": [],
   "source": [
    "tmp = PD[2]"
   ]
  },
  {
   "cell_type": "code",
   "execution_count": 23,
   "metadata": {},
   "outputs": [],
   "source": [
    "data = p.get_problem_data(solver=cp.CVXOPT)"
   ]
  },
  {
   "cell_type": "code",
   "execution_count": 24,
   "metadata": {},
   "outputs": [
    {
     "data": {
      "text/plain": [
       "{'A': <626x925 sparse matrix, tc='d', nnz=1825>,\n",
       " 'F': <function cvxpy.problems.problem_data.matrix_data.F>,\n",
       " 'G': <649x925 sparse matrix, tc='d', nnz=649>,\n",
       " 'b': <626x1 matrix, tc='d'>,\n",
       " 'bool_vars_idx': [],\n",
       " 'c': <925x1 matrix, tc='d'>,\n",
       " 'dims': {'ep': 0, 'f': 626, 'l': 24, 'q': [], 's': [25]},\n",
       " 'h': <649x1 matrix, tc='d'>,\n",
       " 'int_vars_idx': [],\n",
       " 'offset': 0.0}"
      ]
     },
     "execution_count": 24,
     "metadata": {},
     "output_type": "execute_result"
    }
   ],
   "source": [
    "data"
   ]
  },
  {
   "cell_type": "code",
   "execution_count": 25,
   "metadata": {},
   "outputs": [
    {
     "data": {
      "text/plain": [
       "{'A': <0x324 sparse matrix, tc='d', nnz=0>,\n",
       " 'F': None,\n",
       " 'Gl': <25x324 sparse matrix, tc='d', nnz=324>,\n",
       " 'Gq': [],\n",
       " 'Gs': [<625x324 sparse matrix, tc='d', nnz=624>],\n",
       " 'b': <0x1 matrix, tc='d'>,\n",
       " 'c': <324x1 matrix, tc='d'>,\n",
       " 'g': None,\n",
       " 'hl': <25x1 matrix, tc='d'>,\n",
       " 'hq': [],\n",
       " 'hs': [<625x1 matrix, tc='d'>],\n",
       " 'quadcons': []}"
      ]
     },
     "execution_count": 25,
     "metadata": {},
     "output_type": "execute_result"
    }
   ],
   "source": [
    "sdp.cvxoptVars"
   ]
  },
  {
   "cell_type": "code",
   "execution_count": null,
   "metadata": {},
   "outputs": [],
   "source": [
    "d0.keys()"
   ]
  },
  {
   "cell_type": "code",
   "execution_count": null,
   "metadata": {},
   "outputs": [],
   "source": [
    "print(tmp[1][1][35304])"
   ]
  },
  {
   "cell_type": "code",
   "execution_count": null,
   "metadata": {},
   "outputs": [],
   "source": [
    "PD[2][1]"
   ]
  },
  {
   "cell_type": "code",
   "execution_count": null,
   "metadata": {},
   "outputs": [],
   "source": []
  },
  {
   "cell_type": "code",
   "execution_count": 127,
   "metadata": {},
   "outputs": [
    {
     "name": "stdout",
     "output_type": "stream",
     "text": [
      "writing problem in /tmp/tmpVlNFaa.dat-s...\n",
      "SDPA solution status: optimal\n"
     ]
    },
    {
     "data": {
      "text/plain": [
       "{'obj': 0.347688554682013, 'status': 'optimal', 'time': 0.04692506790161133}"
      ]
     },
     "execution_count": 127,
     "metadata": {},
     "output_type": "execute_result"
    }
   ],
   "source": [
    "import picos as pic\n",
    "import cvxopt as cvx\n",
    "\n",
    "sdp = pic.Problem()\n",
    "B = sdp.add_variable('B',(u.M,u.M),vtype='symmetric')\n",
    "betas = sdp.add_variable('betas',(u.M,1))\n",
    "sdp.set_objective('min','I'|cvx.matrix(u.SW_A)*B)\n",
    "sdp.add_constraint('I'|cvx.matrix(u.SD_A)*B == 1.0)\n",
    "sdp.add_constraint(betas >= 0)\n",
    "# sdp.add_constraint(pic.norm(betas) >= 1.)\n",
    "# sdp.add_constraint(pic.norm(betas) <= 1.)\n",
    "# sdp.add_constraint(pic.sum([betas[i] for i in range(u.M)],'i','0...'+str(u.M)) == 1)\n",
    "sdp.add_constraint(((1 & betas.T) // (betas & B))>>0 )\n",
    "\n",
    "sdp.solve(solver='sdpa', solve_via_dual=False)\n",
    "\n",
    "# print(sdp)"
   ]
  },
  {
   "cell_type": "code",
   "execution_count": 121,
   "metadata": {},
   "outputs": [
    {
     "name": "stdout",
     "output_type": "stream",
     "text": [
      "---------------------\n",
      "optimization problem  (SDP):\n",
      "90 variables, 14 affine constraints, 91 vars in 1 SD cones\n",
      "\n",
      "B \t: (12, 12), symmetric\n",
      "betas \t: (12, 1), continuous\n",
      "\n",
      "\tminimize trace( [ 12 x 12 MAT ]*B )\n",
      "such that\n",
      "  trace( [ 12 x 12 MAT ]*B ) = 1.0\n",
      "  betas > |0|\n",
      "  Σ_{i in 0...12} betas[i] = 1.0\n",
      "  [1.0,betas.T;betas,B] ≽ |0|\n",
      "---------------------\n"
     ]
    }
   ],
   "source": [
    "print(sdp)"
   ]
  },
  {
   "cell_type": "code",
   "execution_count": 20,
   "metadata": {},
   "outputs": [
    {
     "name": "stdout",
     "output_type": "stream",
     "text": [
      "[ 2.97e-05]\n",
      "[ 2.95e-05]\n",
      "[ 3.04e-05]\n",
      "[ 2.91e-05]\n",
      "[ 2.97e-05]\n",
      "[ 3.03e-05]\n",
      "[ 2.97e-05]\n",
      "[ 3.13e-05]\n",
      "[ 3.10e-05]\n",
      "[ 2.89e-05]\n",
      "[ 2.72e-05]\n",
      "[ 2.64e-05]\n",
      "[ 3.01e-05]\n",
      "[ 2.96e-05]\n",
      "[ 3.06e-05]\n",
      "[ 2.92e-05]\n",
      "[ 3.00e-05]\n",
      "[ 3.05e-05]\n",
      "[ 2.99e-05]\n",
      "[ 3.14e-05]\n",
      "[ 3.10e-05]\n",
      "[ 2.89e-05]\n",
      "[ 2.71e-05]\n",
      "[ 2.63e-05]\n",
      "\n"
     ]
    }
   ],
   "source": [
    "print(betas.value)"
   ]
  },
  {
   "cell_type": "code",
   "execution_count": 21,
   "metadata": {},
   "outputs": [
    {
     "data": {
      "text/plain": [
       "{'A': <0x324 sparse matrix, tc='d', nnz=0>,\n",
       " 'F': None,\n",
       " 'Gl': <25x324 sparse matrix, tc='d', nnz=324>,\n",
       " 'Gq': [],\n",
       " 'Gs': [<625x324 sparse matrix, tc='d', nnz=624>],\n",
       " 'b': <0x1 matrix, tc='d'>,\n",
       " 'c': <324x1 matrix, tc='d'>,\n",
       " 'g': None,\n",
       " 'hl': <25x1 matrix, tc='d'>,\n",
       " 'hq': [],\n",
       " 'hs': [<625x1 matrix, tc='d'>],\n",
       " 'quadcons': []}"
      ]
     },
     "execution_count": 21,
     "metadata": {},
     "output_type": "execute_result"
    }
   ],
   "source": [
    "sdp.cvxoptVars"
   ]
  },
  {
   "cell_type": "code",
   "execution_count": null,
   "metadata": {},
   "outputs": [],
   "source": []
  },
  {
   "cell_type": "code",
   "execution_count": null,
   "metadata": {},
   "outputs": [],
   "source": [
    "matfile_target"
   ]
  },
  {
   "cell_type": "code",
   "execution_count": null,
   "metadata": {},
   "outputs": [],
   "source": [
    "a = sdp.dualize()"
   ]
  },
  {
   "cell_type": "code",
   "execution_count": null,
   "metadata": {},
   "outputs": [],
   "source": [
    "print(a)"
   ]
  },
  {
   "cell_type": "code",
   "execution_count": null,
   "metadata": {},
   "outputs": [],
   "source": []
  },
  {
   "cell_type": "code",
   "execution_count": null,
   "metadata": {},
   "outputs": [],
   "source": []
  },
  {
   "cell_type": "code",
   "execution_count": null,
   "metadata": {},
   "outputs": [],
   "source": []
  },
  {
   "cell_type": "code",
   "execution_count": null,
   "metadata": {},
   "outputs": [],
   "source": [
    "betas"
   ]
  },
  {
   "cell_type": "code",
   "execution_count": null,
   "metadata": {},
   "outputs": [],
   "source": [
    "np.sum(np.asarray(betas.value))"
   ]
  },
  {
   "cell_type": "code",
   "execution_count": null,
   "metadata": {},
   "outputs": [],
   "source": [
    "print(np.betas/sum(betas))"
   ]
  },
  {
   "cell_type": "code",
   "execution_count": null,
   "metadata": {},
   "outputs": [],
   "source": [
    "u.compute_SWB_caller()\n",
    "u.compute_SWA_caller()\n",
    "u.convex_optimization()\n",
    "u.compute_ENERGY_caller()\n",
    "scipy.io.loadmat('betas')['betas']-u.betas"
   ]
  },
  {
   "cell_type": "code",
   "execution_count": null,
   "metadata": {},
   "outputs": [],
   "source": [
    "tmpb = scipy.io.loadmat('sdb')\n",
    "print(np.allclose(tmpb['S_W_B'],u.SW_betas))\n",
    "print(np.allclose(tmpb['S_D_B'],u.SD_betas))\n",
    "print(np.allclose(np.abs(tmpb['A']),np.abs(u.A),atol=1e-7))\n",
    "tmpa = scipy.io.loadmat('sda')\n",
    "print(np.allclose(tmpa['S_W_A'],u.SW_A))\n",
    "print(np.allclose(tmpa['S_D_A'],u.SD_A))\n",
    "tmpbetas = scipy.io.loadmat('betas')\n",
    "print(np.allclose(tmpbetas['betas'],u.betas))\n"
   ]
  },
  {
   "cell_type": "code",
   "execution_count": null,
   "metadata": {},
   "outputs": [],
   "source": [
    "print(np.max(np.abs(tmpb['A'])-np.abs(u.A)))"
   ]
  },
  {
   "cell_type": "code",
   "execution_count": null,
   "metadata": {},
   "outputs": [],
   "source": [
    "K = scipy.io.loadmat('k')['K']"
   ]
  },
  {
   "cell_type": "code",
   "execution_count": null,
   "metadata": {},
   "outputs": [],
   "source": [
    "np.allclose(u.K,K)"
   ]
  },
  {
   "cell_type": "code",
   "execution_count": null,
   "metadata": {},
   "outputs": [],
   "source": [
    "Val,Vec = sp.linalg.eigh(u.SW_betas)\n",
    "np.any(np.diff(Val) < np.finfo('float64').eps)"
   ]
  },
  {
   "cell_type": "code",
   "execution_count": null,
   "metadata": {},
   "outputs": [],
   "source": [
    "plt.plot(u.gap)"
   ]
  },
  {
   "cell_type": "code",
   "execution_count": null,
   "metadata": {},
   "outputs": [],
   "source": []
  },
  {
   "cell_type": "code",
   "execution_count": null,
   "metadata": {},
   "outputs": [],
   "source": [
    "Val,Vec = sp.linalg.eigh(u.SW_betas,b=u.SD_betas)\n",
    "# print(np.any(np.diff(Val) < np.finfo('float64').eps))\n",
    "# print(Val)\n",
    "print(np.diff(Val))"
   ]
  },
  {
   "cell_type": "code",
   "execution_count": null,
   "metadata": {},
   "outputs": [],
   "source": []
  },
  {
   "cell_type": "code",
   "execution_count": null,
   "metadata": {},
   "outputs": [],
   "source": [
    "u.K.shape"
   ]
  },
  {
   "cell_type": "code",
   "execution_count": null,
   "metadata": {},
   "outputs": [],
   "source": [
    "plt.imshow(np.squeeze(u.K[0,:,:]))\n",
    "plt.show()\n",
    "plt.imshow(np.squeeze(u.K[1,:,:]))\n",
    "plt.show()\n"
   ]
  },
  {
   "cell_type": "code",
   "execution_count": null,
   "metadata": {},
   "outputs": [],
   "source": []
  },
  {
   "cell_type": "code",
   "execution_count": null,
   "metadata": {},
   "outputs": [],
   "source": []
  },
  {
   "cell_type": "code",
   "execution_count": null,
   "metadata": {},
   "outputs": [],
   "source": []
  },
  {
   "cell_type": "code",
   "execution_count": null,
   "metadata": {},
   "outputs": [],
   "source": []
  },
  {
   "cell_type": "code",
   "execution_count": null,
   "metadata": {},
   "outputs": [],
   "source": []
  },
  {
   "cell_type": "code",
   "execution_count": null,
   "metadata": {},
   "outputs": [],
   "source": []
  },
  {
   "cell_type": "code",
   "execution_count": null,
   "metadata": {},
   "outputs": [],
   "source": [
    "u.fit()"
   ]
  },
  {
   "cell_type": "code",
   "execution_count": null,
   "metadata": {},
   "outputs": [],
   "source": [
    "plt.plot(u.gap)\n",
    "plt.show()"
   ]
  },
  {
   "cell_type": "markdown",
   "metadata": {},
   "source": [
    "# !!!"
   ]
  },
  {
   "cell_type": "code",
   "execution_count": null,
   "metadata": {},
   "outputs": [],
   "source": [
    "plt.plot(u.gap)\n",
    "plt.show()"
   ]
  },
  {
   "cell_type": "markdown",
   "metadata": {},
   "source": [
    "# !!!"
   ]
  },
  {
   "cell_type": "code",
   "execution_count": null,
   "metadata": {},
   "outputs": [],
   "source": [
    "plt.plot(u.gap)\n",
    "plt.show()"
   ]
  },
  {
   "cell_type": "code",
   "execution_count": null,
   "metadata": {},
   "outputs": [],
   "source": [
    "u.gap"
   ]
  },
  {
   "cell_type": "code",
   "execution_count": null,
   "metadata": {},
   "outputs": [],
   "source": [
    "u.gap"
   ]
  },
  {
   "cell_type": "code",
   "execution_count": null,
   "metadata": {},
   "outputs": [],
   "source": [
    "uWith.betas"
   ]
  },
  {
   "cell_type": "code",
   "execution_count": null,
   "metadata": {},
   "outputs": [],
   "source": [
    "uWithout.betas"
   ]
  },
  {
   "cell_type": "code",
   "execution_count": null,
   "metadata": {},
   "outputs": [],
   "source": []
  },
  {
   "cell_type": "code",
   "execution_count": null,
   "metadata": {},
   "outputs": [],
   "source": []
  },
  {
   "cell_type": "code",
   "execution_count": null,
   "metadata": {},
   "outputs": [],
   "source": []
  },
  {
   "cell_type": "code",
   "execution_count": null,
   "metadata": {},
   "outputs": [],
   "source": []
  },
  {
   "cell_type": "code",
   "execution_count": null,
   "metadata": {},
   "outputs": [],
   "source": []
  },
  {
   "cell_type": "code",
   "execution_count": null,
   "metadata": {},
   "outputs": [],
   "source": []
  },
  {
   "cell_type": "code",
   "execution_count": null,
   "metadata": {},
   "outputs": [],
   "source": []
  },
  {
   "cell_type": "markdown",
   "metadata": {},
   "source": [
    "# OLD CONVERGENCE"
   ]
  },
  {
   "cell_type": "code",
   "execution_count": null,
   "metadata": {},
   "outputs": [],
   "source": [
    "X = scipy.io.loadmat('CONVERGENCE')\n",
    "FFT = X['XFFT'][:,:100,:]\n",
    "tmp = scipy.io.loadmat('Kcomplex')"
   ]
  },
  {
   "cell_type": "code",
   "execution_count": null,
   "metadata": {},
   "outputs": [],
   "source": [
    "XFFT=[FFT[0,:,:], \n",
    "     FFT[1,:,:], \n",
    "     FFT[2,:,:], \n",
    "     FFT[3,:,:], \n",
    "     FFT[4,:,:], \n",
    "     FFT[5,:,:], \n",
    "     FFT[6,:,:], \n",
    "     FFT[7,:,:],\n",
    "     FFT[8,:,:], \n",
    "     FFT[9,:,:], \n",
    "     FFT[10,:,:], \n",
    "     FFT[11,:,:]]"
   ]
  },
  {
   "cell_type": "code",
   "execution_count": null,
   "metadata": {},
   "outputs": [],
   "source": [
    "u = MultipleKernelLearning.UnsupervisedMKL(XFFT)"
   ]
  },
  {
   "cell_type": "code",
   "execution_count": null,
   "metadata": {},
   "outputs": [],
   "source": [
    "u.compute_SWB_caller()"
   ]
  },
  {
   "cell_type": "code",
   "execution_count": null,
   "metadata": {},
   "outputs": [],
   "source": [
    "tmp = scipy.io.loadmat('sdb')\n",
    "print(np.allclose(u.SW_betas,tmp['S_W_B']))\n",
    "print(np.allclose(u.SD_betas,tmp['S_D_B']))\n",
    "print(np.allclose(np.abs(u.A),np.abs(tmp['A']),atol=1e-4))\n",
    "print(np.allclose(u.eigvals,tmp['D'][1:].ravel()))\n"
   ]
  },
  {
   "cell_type": "code",
   "execution_count": null,
   "metadata": {},
   "outputs": [],
   "source": [
    "# #TRY THIS:\n",
    "# u.A = tmp['A']\n",
    "# u.eigvals = tmp['D'][1:].ravel()"
   ]
  },
  {
   "cell_type": "code",
   "execution_count": null,
   "metadata": {},
   "outputs": [],
   "source": [
    "u.compute_SWA_caller()"
   ]
  },
  {
   "cell_type": "code",
   "execution_count": null,
   "metadata": {},
   "outputs": [],
   "source": [
    "tmp = scipy.io.loadmat('sda')\n",
    "print(np.allclose(u.SW_A,tmp['S_W_A']))\n",
    "print(np.allclose(u.SD_A,tmp['S_D_A']))\n"
   ]
  },
  {
   "cell_type": "code",
   "execution_count": null,
   "metadata": {},
   "outputs": [],
   "source": [
    "u.SW_A"
   ]
  },
  {
   "cell_type": "code",
   "execution_count": null,
   "metadata": {},
   "outputs": [],
   "source": [
    "u.convex_optimization()"
   ]
  },
  {
   "cell_type": "code",
   "execution_count": null,
   "metadata": {},
   "outputs": [],
   "source": [
    "tmp = scipy.io.loadmat('betas')\n",
    "print(np.allclose(u.betas,tmp['betas']))\n"
   ]
  },
  {
   "cell_type": "code",
   "execution_count": null,
   "metadata": {},
   "outputs": [],
   "source": [
    "print(u.betas)\n",
    "print(' ')\n",
    "print(tmp['betas'])"
   ]
  },
  {
   "cell_type": "code",
   "execution_count": null,
   "metadata": {},
   "outputs": [],
   "source": [
    "u.betas - tmp['betas']"
   ]
  },
  {
   "cell_type": "code",
   "execution_count": null,
   "metadata": {},
   "outputs": [],
   "source": []
  },
  {
   "cell_type": "code",
   "execution_count": null,
   "metadata": {},
   "outputs": [],
   "source": []
  },
  {
   "cell_type": "code",
   "execution_count": null,
   "metadata": {},
   "outputs": [],
   "source": []
  },
  {
   "cell_type": "code",
   "execution_count": null,
   "metadata": {},
   "outputs": [],
   "source": []
  },
  {
   "cell_type": "markdown",
   "metadata": {},
   "source": [
    "# VISUALIZATION"
   ]
  },
  {
   "cell_type": "code",
   "execution_count": null,
   "metadata": {},
   "outputs": [],
   "source": [
    "from matplotlib.lines import Line2D\n",
    "from matplotlib.pyplot import figure\n",
    "from IPython import display\n",
    "\n",
    "X = [0]\n",
    "Y = [0]\n",
    "\n",
    "f = figure()\n",
    "f.gca().add_line(Line2D([],[]))\n",
    "title('Energy')\n",
    "\n",
    "for i in range(100):\n",
    "    X = X + [i]\n",
    "    Y = Y + [i**2]\n",
    "    f.gca().lines[0].set_xdata(X)\n",
    "    f.gca().lines[0].set_ydata(Y)\n",
    "    f.gca().relim()\n",
    "    f.gca().autoscale_view()\n",
    "    display.clear_output(wait=True)\n",
    "    display.display(f)\n",
    "    \n",
    "    \n",
    "display.clear_output(wait=False)\n"
   ]
  },
  {
   "cell_type": "code",
   "execution_count": null,
   "metadata": {},
   "outputs": [],
   "source": []
  },
  {
   "cell_type": "markdown",
   "metadata": {},
   "source": [
    "# ALL"
   ]
  },
  {
   "cell_type": "code",
   "execution_count": null,
   "metadata": {},
   "outputs": [],
   "source": [
    "u = MultipleKernelLearning.UnsupervisedMKL(XFFT,maxiter=10)\n",
    "u.fit()"
   ]
  },
  {
   "cell_type": "code",
   "execution_count": null,
   "metadata": {},
   "outputs": [],
   "source": [
    "import matplotlib.pyplot as plt\n",
    "\n",
    "plt.plot(u.gap)\n",
    "plt.show()"
   ]
  },
  {
   "cell_type": "code",
   "execution_count": null,
   "metadata": {},
   "outputs": [],
   "source": [
    "u.betas"
   ]
  },
  {
   "cell_type": "code",
   "execution_count": null,
   "metadata": {},
   "outputs": [],
   "source": [
    "Res = u.transform()"
   ]
  },
  {
   "cell_type": "markdown",
   "metadata": {},
   "source": [
    "# OLD"
   ]
  },
  {
   "cell_type": "markdown",
   "metadata": {},
   "source": [
    "Created on Wed Jan 10 14:27:10 2018\n",
    "\n",
    "@author: u129154"
   ]
  },
  {
   "cell_type": "code",
   "execution_count": null,
   "metadata": {},
   "outputs": [],
   "source": [
    "# -*- coding: utf-8 -*-\n",
    "%load_ext autoreload\n",
    "%autoreload 2"
   ]
  },
  {
   "cell_type": "code",
   "execution_count": null,
   "metadata": {
    "scrolled": false
   },
   "outputs": [],
   "source": [
    "%%time\n",
    "\n",
    "from sys import modules\n",
    "from numpy import loadtxt\n",
    "from numpy import newaxis\n",
    "from numpy import max\n",
    "from numpy import average\n",
    "from numpy import mean\n",
    "from numpy import zeros\n",
    "from numpy import concatenate\n",
    "# from MKL_v2 import uMKL\n",
    "from MKL_v3 import KernelStack\n",
    "# from mkregfunc_v2 import mkreg_v2\n",
    "import MKL_v3\n",
    "from MKL_v3 import get_sparse_W_and_D\n",
    "from sklearn.neighbors import NearestNeighbors\n",
    "import matplotlib.pyplot as plt\n",
    "from MultipleKernelLearning import UnsupervisedMKL\n",
    "\n",
    "# load data\n",
    "STACKsep = loadtxt('Feat1')\n",
    "HR = loadtxt('Feat2')\n",
    "HR = HR[:,newaxis]\n",
    "\n",
    "#kernel-related parameters\n",
    "# M = 3  # number of features\n",
    "N = STACKsep.shape[0]\n",
    "sig_knn = 20  #knn for the kernel\n",
    "sparse_knn = 100  #knn for the sparsing of the global affinity matrix\n",
    "\n",
    "#optimization parameters\n",
    "delta = 1e-6  # used in the GEP stage\n",
    "niter = 10  # stop criteria #1\n",
    "tol = 1e-6  # stop criteria #2 (change in objective in 2 consecutive iterations <tol)\n",
    "\n"
   ]
  },
  {
   "cell_type": "code",
   "execution_count": null,
   "metadata": {},
   "outputs": [],
   "source": [
    "import numpy as np\n",
    "\n",
    "N = 300\n",
    "\n",
    "Feature_1 = 1*np.random.rand(N,10)\n",
    "Feature_2 = 2*np.random.rand(N,20)\n",
    "Feature_3 = 3*np.random.rand(N,30)\n",
    "Feature_4 = 4*np.random.rand(N,40)\n",
    "\n",
    "X = [Feature_1,Feature_2,Feature_3,Feature_4]"
   ]
  },
  {
   "cell_type": "code",
   "execution_count": null,
   "metadata": {},
   "outputs": [],
   "source": [
    "uMKL2 = UnsupervisedMKL(X,sig_knn=20,sparse_knn=100)"
   ]
  },
  {
   "cell_type": "code",
   "execution_count": null,
   "metadata": {},
   "outputs": [],
   "source": [
    "uMKL2.maxiter = 2"
   ]
  },
  {
   "cell_type": "code",
   "execution_count": null,
   "metadata": {},
   "outputs": [],
   "source": [
    "uMKL2.fit()"
   ]
  },
  {
   "cell_type": "code",
   "execution_count": null,
   "metadata": {},
   "outputs": [],
   "source": [
    "# %%time\n",
    "\n",
    "#*******************MKL************************************#\n",
    "subsamp_factor = 1\n",
    "IND = range(0,N,subsamp_factor)\n",
    "N = N / subsamp_factor\n",
    "\n",
    "# HR = np.pad(HR,((0,0),(0,1)),'constant')\n",
    "\n",
    "# stack_seq = [HR[IND], STACKsep[IND]]\n",
    "stack_seq = [Feature_1[IND],Feature_2[IND],Feature_3[IND],Feature_4[IND]]\n",
    "#stack_seq: a list with M numpy arrays, \n",
    "#each consisting of a Nxd stack of the samples under those features\n",
    "\n",
    "K, var = KernelStack(stack_seq, len(stack_seq), N, sig_knn)\n",
    "sparse_W, D = get_sparse_W_and_D(K, len(stack_seq), var, sparse_knn)\n"
   ]
  },
  {
   "cell_type": "code",
   "execution_count": null,
   "metadata": {},
   "outputs": [],
   "source": [
    "from scipy.io import savemat, loadmat\n",
    "\n",
    "savedict = {'Feature_1':Feature_1,\n",
    "            'Feature_2':Feature_2,\n",
    "            'Feature_3':Feature_3,\n",
    "            'Feature_4':Feature_4,\n",
    "           }\n",
    "\n",
    "savemat('TEST',savedict)"
   ]
  },
  {
   "cell_type": "code",
   "execution_count": null,
   "metadata": {
    "scrolled": false
   },
   "outputs": [],
   "source": [
    "%%time\n",
    "\n",
    "uMKL = MKL_v3.uMKL(K, sparse_W, D, delta)\n",
    "uMKL.fit(1)\n",
    "# uMKL.transform()\n",
    "\n",
    "# uMKL.proj.shape"
   ]
  },
  {
   "cell_type": "code",
   "execution_count": null,
   "metadata": {},
   "outputs": [],
   "source": [
    "print np.allclose(uMKL.A,uMKL2.A)\n",
    "print np.allclose(uMKL.betas,uMKL2.betas)\n",
    "print np.allclose(uMKL.SW_A,uMKL2.SW_A)\n",
    "print np.allclose(uMKL.SD_A,uMKL2.SD_A)\n",
    "print np.allclose(uMKL.SW_betas,uMKL2.SW_betas)\n",
    "print np.allclose(uMKL.SD_betas,uMKL2.SD_betas)\n",
    "print np.allclose(uMKL.gap,uMKL2.gap)\n",
    "print np.allclose(uMKL.constr,uMKL2.constr)\n"
   ]
  },
  {
   "cell_type": "code",
   "execution_count": null,
   "metadata": {},
   "outputs": [],
   "source": [
    "import matplotlib.pyplot as plt\n",
    "\n",
    "plt.plot(uMKL.gap)\n",
    "plt.show()"
   ]
  },
  {
   "cell_type": "code",
   "execution_count": null,
   "metadata": {
    "scrolled": false
   },
   "outputs": [],
   "source": [
    "uMKL.convex_optimization()\n"
   ]
  },
  {
   "cell_type": "markdown",
   "metadata": {},
   "source": [
    "# COMPARISON WITH CTYPES"
   ]
  },
  {
   "cell_type": "code",
   "execution_count": null,
   "metadata": {},
   "outputs": [],
   "source": [
    "from compute import computeSWA\n",
    "from compute import computeSWB\n",
    "from compute import computeENERGY\n",
    "from utils.DistributeWorkload import create_ivalues\n",
    "from joblib import Parallel\n",
    "from joblib import delayed\n",
    "from joblib.parallel import effective_n_jobs\n",
    "from scipy.io import loadmat, savemat\n",
    "import numpy as np\n",
    "import MKL_v3"
   ]
  },
  {
   "cell_type": "code",
   "execution_count": null,
   "metadata": {},
   "outputs": [],
   "source": [
    "K_tot_ALL = np.moveaxis(K,0,-1)\n",
    "betas     = np.ones((len(stack_seq),1))/len(stack_seq)\n",
    "W         = sparse_W.astype(np.double)\n",
    "Diag      = np.sum(W,axis=1)"
   ]
  },
  {
   "cell_type": "code",
   "execution_count": null,
   "metadata": {},
   "outputs": [],
   "source": [
    "mkl = MKL_v3.uMKL(K,sparse_W,D,1e-6)"
   ]
  },
  {
   "cell_type": "code",
   "execution_count": null,
   "metadata": {},
   "outputs": [],
   "source": []
  },
  {
   "cell_type": "code",
   "execution_count": null,
   "metadata": {},
   "outputs": [],
   "source": [
    "# mkl.betas[0] = 1\n",
    "# mkl.betas[1] = 0"
   ]
  },
  {
   "cell_type": "code",
   "execution_count": null,
   "metadata": {},
   "outputs": [],
   "source": [
    "%%time\n",
    "mkl.compute_SWB_caller()"
   ]
  },
  {
   "cell_type": "code",
   "execution_count": null,
   "metadata": {},
   "outputs": [],
   "source": [
    "%%time\n",
    "mkl.compute_SWA_caller()"
   ]
  },
  {
   "cell_type": "code",
   "execution_count": null,
   "metadata": {},
   "outputs": [],
   "source": [
    "%%time\n",
    "mkl.convex_optimization()"
   ]
  },
  {
   "cell_type": "code",
   "execution_count": null,
   "metadata": {},
   "outputs": [],
   "source": [
    "%%time\n",
    "mkl.compute_ENERGY_caller()"
   ]
  },
  {
   "cell_type": "code",
   "execution_count": null,
   "metadata": {},
   "outputs": [],
   "source": [
    "from numpy.linalg import cond"
   ]
  },
  {
   "cell_type": "code",
   "execution_count": null,
   "metadata": {},
   "outputs": [],
   "source": [
    "mkl.gap"
   ]
  },
  {
   "cell_type": "code",
   "execution_count": null,
   "metadata": {},
   "outputs": [],
   "source": [
    "mkl.betas"
   ]
  },
  {
   "cell_type": "code",
   "execution_count": null,
   "metadata": {},
   "outputs": [],
   "source": []
  },
  {
   "cell_type": "code",
   "execution_count": null,
   "metadata": {},
   "outputs": [],
   "source": []
  },
  {
   "cell_type": "code",
   "execution_count": null,
   "metadata": {},
   "outputs": [],
   "source": [
    "print(cond(mkl.SW_A,p=None))\n",
    "print(cond(mkl.SW_A,p='fro'))\n",
    "print(cond(mkl.SW_A,p=np.inf))\n",
    "print(cond(mkl.SW_A,p=-np.inf))\n",
    "print(cond(mkl.SW_A,p=1))\n",
    "print(cond(mkl.SW_A,p=-1))\n",
    "print(cond(mkl.SW_A,p=2))\n",
    "print(cond(mkl.SW_A,p=-2))\n"
   ]
  },
  {
   "cell_type": "code",
   "execution_count": null,
   "metadata": {},
   "outputs": [],
   "source": [
    "mkl.betas"
   ]
  },
  {
   "cell_type": "markdown",
   "metadata": {},
   "source": [
    "# ALL"
   ]
  },
  {
   "cell_type": "code",
   "execution_count": null,
   "metadata": {
    "scrolled": true
   },
   "outputs": [],
   "source": [
    "# %%time\n",
    "mkl = MKL_v3.uMKL(K,sparse_W,D,1e-6)\n",
    "# mkl.betas[0] = 0.9\n",
    "# mkl.betas[1] = 0.1\n",
    "tmp = []\n",
    "for i in range(0,20):\n",
    "    print(\" * Iteration \" + str(i+1) + \":\")\n",
    "    mkl.compute_SWB_caller()\n",
    "    mkl.compute_SWA_caller()\n",
    "    mkl.convex_optimization()\n",
    "    mkl.compute_ENERGY_caller()\n",
    "    print(\" \")"
   ]
  },
  {
   "cell_type": "code",
   "execution_count": null,
   "metadata": {},
   "outputs": [],
   "source": [
    "mkl.betas"
   ]
  },
  {
   "cell_type": "code",
   "execution_count": null,
   "metadata": {},
   "outputs": [],
   "source": [
    "mkl.SW_A"
   ]
  },
  {
   "cell_type": "code",
   "execution_count": null,
   "metadata": {},
   "outputs": [],
   "source": [
    "print(mkl.gap[-1])\n",
    "print(mkl.constr[-1])\n",
    "print(np.min(mkl.SW_betas))\n",
    "print(np.max(mkl.SW_betas))\n",
    "print(np.min(mkl.SD_betas))\n",
    "print(np.max(mkl.SD_betas))\n",
    "print(np.min(mkl.SW_A))\n",
    "print(np.max(mkl.SW_A))\n",
    "print(np.min(mkl.SD_A))\n",
    "print(np.max(mkl.SD_A))\n",
    "print(np.min(mkl.A))\n",
    "print(np.max(mkl.A))\n"
   ]
  },
  {
   "cell_type": "code",
   "execution_count": null,
   "metadata": {},
   "outputs": [],
   "source": [
    "np."
   ]
  },
  {
   "cell_type": "code",
   "execution_count": null,
   "metadata": {},
   "outputs": [],
   "source": [
    "mkl.gap"
   ]
  },
  {
   "cell_type": "code",
   "execution_count": null,
   "metadata": {},
   "outputs": [],
   "source": [
    "import matplotlib.pyplot as plt\n",
    "\n",
    "plt.plot(range(1,len(mkl.gap)+1),mkl.gap)\n",
    "plt.show()"
   ]
  },
  {
   "cell_type": "code",
   "execution_count": null,
   "metadata": {},
   "outputs": [],
   "source": [
    "# tmp       = loadmat('postIteration.mat')\n",
    "\n",
    "# print(np.allclose(mkl.SW_betas,tmp['S_W_B']))\n",
    "# print(np.allclose(mkl.SD_betas,tmp['S_D_B']))\n",
    "# print(np.allclose(mkl.SW_A,tmp['S_W_A']))\n",
    "# print(np.allclose(mkl.SD_A,tmp['S_D_A']))\n",
    "\n",
    "# print(np.allclose(np.moveaxis(K,0,-1),tmp['K_tot_ALL']))\n",
    "# print(np.allclose(np.diag(D),tmp['Diag'].ravel()))\n",
    "# print(np.allclose(sparse_W,tmp['W']))"
   ]
  },
  {
   "cell_type": "markdown",
   "metadata": {},
   "source": [
    "# CVX OPTIMIZATION"
   ]
  },
  {
   "cell_type": "code",
   "execution_count": null,
   "metadata": {},
   "outputs": [],
   "source": [
    "import cvxpy as cp"
   ]
  },
  {
   "cell_type": "code",
   "execution_count": null,
   "metadata": {},
   "outputs": [],
   "source": [
    "%%time\n",
    "# mkl.convex_optimization()\n",
    "print(mkl.betas)"
   ]
  },
  {
   "cell_type": "code",
   "execution_count": null,
   "metadata": {},
   "outputs": [],
   "source": [
    "# Optimization of the convex problem via cvxpy\n",
    "SW_AdynRange        = np.max(np.abs(mkl.SW_A))\n",
    "SD_AdynRange        = np.max(np.abs(mkl.SD_A))\n",
    "\n",
    "# SW_AdynRange        = (np.max(mkl.SW_A) - np.min(mkl.SW_A))/2.\n",
    "# SD_AdynRange        = (np.max(mkl.SD_A) - np.min(mkl.SD_A))/2.\n",
    "\n",
    "factor              = 10.**np.floor(np.log10(np.max([SW_AdynRange,SD_AdynRange])))\n",
    "\n",
    "SW_Aprime           = mkl.SW_A\n",
    "SD_Aprime           = mkl.SD_A/factor\n",
    "\n",
    "Bvar                = cp.Variable((mkl.M, mkl.M), symmetric=True)\n",
    "betavar             = cp.Variable((mkl.M, 1))\n",
    "\n",
    "# objective           = factor*cp.Minimize(cp.trace(SW_Aprime * Bvar))\n",
    "objective           = cp.Minimize(cp.trace(SW_Aprime * Bvar))\n",
    "constraints         = [cp.trace(SD_Aprime * Bvar) == 1/factor, betavar >= 0]\n",
    "\n",
    "hb1                 = cp.hstack([np.ones((1,1)), betavar.T])\n",
    "hb2                 = cp.hstack([betavar, Bvar])\n",
    "P                   = cp.vstack([hb1, hb2])\n",
    "constraints.append(P == cp.Variable((mkl.M + 1,mkl.M + 1), PSD=True))\n",
    "\n",
    "p                   = cp.Problem(objective, constraints)\n",
    "\n",
    "# See http://cvxr.com/cvx/doc/solver.html#controlling-precision\n",
    "p.solve(solver=cp.CVXOPT,refinement=1,verbose=False)\n",
    "\n",
    "# print betavar.value\n",
    "print np.asarray(betavar.value / np.sum(betavar.value))"
   ]
  },
  {
   "cell_type": "code",
   "execution_count": null,
   "metadata": {},
   "outputs": [],
   "source": []
  },
  {
   "cell_type": "code",
   "execution_count": null,
   "metadata": {},
   "outputs": [],
   "source": []
  },
  {
   "cell_type": "code",
   "execution_count": null,
   "metadata": {},
   "outputs": [],
   "source": []
  },
  {
   "cell_type": "code",
   "execution_count": null,
   "metadata": {},
   "outputs": [],
   "source": []
  },
  {
   "cell_type": "code",
   "execution_count": null,
   "metadata": {},
   "outputs": [],
   "source": []
  },
  {
   "cell_type": "code",
   "execution_count": null,
   "metadata": {},
   "outputs": [],
   "source": [
    "# # Optimization of the convex problem via cvxpy\n",
    "# SW_AdynRange        = (np.max(mkl.SW_A) - np.min(mkl.SW_A))/2.\n",
    "# SD_AdynRange        = (np.max(mkl.SD_A) - np.min(mkl.SD_A))/2.\n",
    "\n",
    "# factor              = np.max([SW_AdynRange, SD_AdynRange])\n",
    "\n",
    "# SW_Aprime           = (mkl.SW_A - np.min(mkl.SW_A))/(np.max(mkl.SW_A) - np.min(mkl.SW_A))\n",
    "# SD_Aprime           = (mkl.SD_A - np.min(mkl.SD_A))/(np.max(mkl.SD_A) - np.min(mkl.SD_A))\n",
    "\n",
    "# Bvar                = cp.Variable((mkl.M, mkl.M), symmetric=True)\n",
    "# betavar             = cp.Variable((mkl.M, 1))\n",
    "# # objective           = SW_AdynRange*cp.Minimize(cp.trace(SW_Aprime * Bvar))\n",
    "# objective           = cp.Minimize(cp.trace(SW_Aprime * Bvar))\n",
    "# constraints         = [cp.trace(SD_Aprime * Bvar) == 1, betavar >= 0]\n",
    "\n",
    "# hb1                 = cp.hstack([np.ones((1,1)), betavar.T])\n",
    "# hb2                 = cp.hstack([betavar, Bvar])\n",
    "# P                   = cp.vstack([hb1, hb2])\n",
    "# constraints.append(P == cp.Variable((mkl.M + 1,mkl.M + 1), PSD=True))\n",
    "\n",
    "# p                   = cp.Problem(objective, constraints)\n",
    "\n",
    "# # See http://cvxr.com/cvx/doc/solver.html#controlling-precision\n",
    "# p.solve(solver=cp.CVXOPT,precision=np.finfo(np.double).eps**(1),refinement=1,verbose=False)\n",
    "\n",
    "# print np.asarray(betavar.value / np.sum(betavar.value))"
   ]
  },
  {
   "cell_type": "code",
   "execution_count": null,
   "metadata": {},
   "outputs": [],
   "source": [
    "factor"
   ]
  },
  {
   "cell_type": "code",
   "execution_count": null,
   "metadata": {},
   "outputs": [],
   "source": []
  },
  {
   "cell_type": "code",
   "execution_count": null,
   "metadata": {},
   "outputs": [],
   "source": [
    "mkl.SW"
   ]
  },
  {
   "cell_type": "code",
   "execution_count": null,
   "metadata": {},
   "outputs": [],
   "source": [
    "%%time\n",
    "betas = mkl.convex_optimization()\n",
    "print(betas)"
   ]
  },
  {
   "cell_type": "code",
   "execution_count": null,
   "metadata": {},
   "outputs": [],
   "source": [
    "mkl._precision_eps**4"
   ]
  },
  {
   "cell_type": "code",
   "execution_count": null,
   "metadata": {},
   "outputs": [],
   "source": [
    "import cvxpy as cp\n",
    "import cvxopt\n",
    "\n",
    "P = cp.Problem()"
   ]
  },
  {
   "cell_type": "code",
   "execution_count": null,
   "metadata": {},
   "outputs": [],
   "source": []
  },
  {
   "cell_type": "code",
   "execution_count": null,
   "metadata": {},
   "outputs": [],
   "source": []
  },
  {
   "cell_type": "code",
   "execution_count": null,
   "metadata": {},
   "outputs": [],
   "source": []
  },
  {
   "cell_type": "code",
   "execution_count": null,
   "metadata": {},
   "outputs": [],
   "source": []
  },
  {
   "cell_type": "code",
   "execution_count": null,
   "metadata": {},
   "outputs": [],
   "source": []
  },
  {
   "cell_type": "code",
   "execution_count": null,
   "metadata": {},
   "outputs": [],
   "source": []
  },
  {
   "cell_type": "code",
   "execution_count": null,
   "metadata": {},
   "outputs": [],
   "source": []
  },
  {
   "cell_type": "code",
   "execution_count": null,
   "metadata": {},
   "outputs": [],
   "source": []
  }
 ],
 "metadata": {
  "kernelspec": {
   "display_name": "DeepLearning3",
   "language": "python",
   "name": "deeplearning3"
  },
  "language_info": {
   "codemirror_mode": {
    "name": "ipython",
    "version": 3
   },
   "file_extension": ".py",
   "mimetype": "text/x-python",
   "name": "python",
   "nbconvert_exporter": "python",
   "pygments_lexer": "ipython3",
   "version": "3.8.10"
  }
 },
 "nbformat": 4,
 "nbformat_minor": 2
}
